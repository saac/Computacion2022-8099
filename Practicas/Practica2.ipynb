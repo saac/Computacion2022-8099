{
 "cells": [
  {
   "cell_type": "markdown",
   "metadata": {},
   "source": [
    "# Introducción a las herramientas del cómputo científico.\n",
    "\n",
    "Sergio A. Alcalá Corona <br>\n",
    "Sergio A. Sánchez Chávez\n",
    "\n",
    "---\n",
    "---"
   ]
  },
  {
   "cell_type": "markdown",
   "metadata": {},
   "source": [
    "# SISTEMA OPERATIVO LINUX\n",
    "\n",
    "## Práctica 2\n",
    "\n",
    "### Trabajo con Archivos (redireccionamiento, búsqueda, filtros y permisos)\n",
    "\n",
    "Para esta práctica vamos a trabajar con una base de datos generada artificialmente. Esta se encuentra comprimida en el archivo **base.tar.gz**. \n",
    "\n",
    "---\n"
   ]
  },
  {
   "cell_type": "markdown",
   "metadata": {},
   "source": [
    "## Antes de empezar ...\n",
    "\n",
    "La **Base de Datos** esta organizada de la siguiente manera: \n",
    "\n",
    "Un directorio llamado _BaseDatos_ con subdirectorios organizados por alcaldías de la CDMX y sectores. \n",
    "Dentro de cada sector se encuentran archivos cuyo nombre esta dado por una fecha y dentro de cada uno hay una lista con 40 nombres y telefonos (todos generados aleatoriamente). \n",
    "\n",
    "Para descomprimir la base de datos utiliza el comando: \n",
    "\n",
    "`tar -xzf base.tar.gz`\n",
    "\n",
    "Para esta práctica será de ayuda utilizar el comando _**`wc`**_ (word counting)\n",
    "\n",
    "`wc -l archivo` para contar líneas\n",
    "\n",
    "`wc -w archivo` para contar palabras\n",
    "\n",
    "Si necesitas más información de este comando utiliza el manual"
   ]
  },
  {
   "cell_type": "markdown",
   "metadata": {},
   "source": [
    "## Indicaciones"
   ]
  },
  {
   "cell_type": "markdown",
   "metadata": {},
   "source": [
    "- Tendrás que abrir tu _Jupyterlab_ y realizarás los ejercicios en un notebook de Bash.\n",
    "\n",
    "- Sólo es válido usar comandos de Bash (no Python, ni algún otro lenguaje de programación)\n",
    "\n",
    "- Todos los comandos que uses (a menos que se indique lo contrario) deben de estar en el notebook.\n",
    "\n",
    "- __*TRATA DE USAR EL MENOR NUMERO DE COMANDOS POSIBLES.*__\n",
    "\n",
    "- Los archivos resultantes deben de colocarse en un directorio llamado __*Resultado*__. Esta carpeta la deberás de comprimir y subirla al Classroom. El archivo que debes subir tiene que estar comprimido en un archivo .tar.gz para ello utilizarás el comando:\n",
    "\n",
    "`tar -czfv resultado.tar.gz Resultado/`"
   ]
  },
  {
   "cell_type": "markdown",
   "metadata": {},
   "source": [
    "## cat,  head, tail"
   ]
  },
  {
   "cell_type": "markdown",
   "metadata": {},
   "source": [
    "**1.** Copia el archivo (utilizando comandos de bash) que se encuentra en `directorio/TLALPAN/sectorH/names_2009-08-30.txt` a la carpeta `Resultado`.  \n",
    "\n",
    "Ahora colócate en el directorio `Resultado` y ejecuta los siguientes comandos, para responder a las siguientes preguntas:  \n",
    "    "
   ]
  },
  {
   "cell_type": "code",
   "execution_count": null,
   "metadata": {},
   "outputs": [],
   "source": []
  },
  {
   "cell_type": "markdown",
   "metadata": {},
   "source": [
    "**2.** ¿Cuál es el resultado de ejecutar los siguientes comandos en la terminal? \n",
    "\n",
    "$\\; \\; \\; \\; \\;$ a) `cat < names_2009-08-30.txt > names_cat.txt`\n",
    "    \n",
    "$\\; \\; \\; \\; \\;$ b) `cat < names_2009-08-30.txt >> names_cat.txt`\n",
    "    \n",
    "$\\; \\; \\; \\; \\;$ c) ¿Cuál es la diferencia entre ambos? Explícalo con tus propias palabras. "
   ]
  },
  {
   "cell_type": "code",
   "execution_count": null,
   "metadata": {},
   "outputs": [],
   "source": []
  },
  {
   "cell_type": "markdown",
   "metadata": {},
   "source": [
    "**3.** ¿Cuál es la diferencia entre estos comandos?\n",
    " \n",
    "$\\; \\; \\; \\; \\;$ a) `cat names.txt 2> err.dat`\n",
    "    \n",
    "$\\; \\; \\; \\; \\;$ b) `cata names.txt 2> err.dat`\n",
    "    "
   ]
  },
  {
   "cell_type": "code",
   "execution_count": null,
   "metadata": {},
   "outputs": [],
   "source": []
  },
  {
   "cell_type": "markdown",
   "metadata": {},
   "source": [
    "**4.** Ejecuta: `cat > feliz` enseguida escibre algo y luego ejecuta `Ctrl+D` dos veces. ¿qué fue lo que sucedio?"
   ]
  },
  {
   "cell_type": "code",
   "execution_count": null,
   "metadata": {},
   "outputs": [],
   "source": []
  },
  {
   "cell_type": "markdown",
   "metadata": {},
   "source": [
    "**5.** ¿Existe algúna forma, con los comandos de bash, de mostrar el archivo de forma inversa? En caso de existir, utilízalo para ver el archivo `directorio/COYOACAN/sectorG/names_2005-09-27.txt` y guarda la salida en el archivo `catinverso.dat` "
   ]
  },
  {
   "cell_type": "code",
   "execution_count": null,
   "metadata": {},
   "outputs": [],
   "source": []
  },
  {
   "cell_type": "markdown",
   "metadata": {},
   "source": [
    "**6.** Crea un solo archivo con el nombre `todosarchivos.txt` que tenga el contenido de todos los archivos del directorio `directorio/CUAUHTEMOC/sectorE/` "
   ]
  },
  {
   "cell_type": "code",
   "execution_count": null,
   "metadata": {},
   "outputs": [],
   "source": []
  },
  {
   "cell_type": "markdown",
   "metadata": {},
   "source": [
    "**7.** Coloca en un archivo con el nombre `colacabeza` las primeras 23 líneas numeradas y las últimas 32 líneas numeradas del archivo `todosarchivos.txt`"
   ]
  },
  {
   "cell_type": "code",
   "execution_count": null,
   "metadata": {},
   "outputs": [],
   "source": []
  },
  {
   "cell_type": "markdown",
   "metadata": {},
   "source": [
    "**Opcional**: Numera las líneas.  Genera un archivo donde se indiquen con numeros las líneas de este archivo."
   ]
  },
  {
   "cell_type": "code",
   "execution_count": null,
   "metadata": {},
   "outputs": [],
   "source": []
  },
  {
   "cell_type": "markdown",
   "metadata": {},
   "source": [
    "## Procesos y Permisos"
   ]
  },
  {
   "cell_type": "markdown",
   "metadata": {},
   "source": [
    "**8.** ¿Cuál es la diferencia entre los comandos `top`, `htop` y `ps`?"
   ]
  },
  {
   "cell_type": "code",
   "execution_count": null,
   "metadata": {},
   "outputs": [],
   "source": []
  },
  {
   "cell_type": "markdown",
   "metadata": {},
   "source": [
    "**9**. Crea un archivo llamado `MisProcesos.prs` que contenga todos los procesos de tu usuario activos en tu equipo, junto con sus características."
   ]
  },
  {
   "cell_type": "code",
   "execution_count": null,
   "metadata": {},
   "outputs": [],
   "source": []
  },
  {
   "cell_type": "markdown",
   "metadata": {},
   "source": [
    "**10.** Explica que hace el comando `umask` y pon un ejemplo de su uso. "
   ]
  },
  {
   "cell_type": "code",
   "execution_count": null,
   "metadata": {},
   "outputs": [],
   "source": []
  },
  {
   "cell_type": "markdown",
   "metadata": {},
   "source": [
    "**11.** Copia la carpeta `CUAUHTEMOC` dentro de `Resultados/` y cambia los permisos de todos los archivos de la siguiente manera sólo lectura y escritura para el dueño, sólo ejecución para el grupo y sólo lectura para los demás."
   ]
  },
  {
   "cell_type": "code",
   "execution_count": null,
   "metadata": {},
   "outputs": [],
   "source": []
  },
  {
   "cell_type": "markdown",
   "metadata": {},
   "source": [
    "**12.** Cambia los permisos (por el método octal) de todos los archivos con terminación __.txt__ dentro de la carpeta `CUAUHTEMOC/sectorG/`, de tal manera que el dueño tenga lectura, escritura y ejecución, sólo lectura para el grupo y ningún permiso para los demás."
   ]
  },
  {
   "cell_type": "code",
   "execution_count": null,
   "metadata": {},
   "outputs": [],
   "source": []
  },
  {
   "cell_type": "markdown",
   "metadata": {},
   "source": [
    "**13.** Cambia los permisos de todos los archivos con terminación __.dat__ dentro de la carpeta `CUAUHTEMOC/sectorP/`, de tal manera que el dueño tenga todos los permisos, sólo ejecución para el grupo y sólo lectura  para los demás. Aplica un `ls -l` para ver el resultado y guarda eso en un archivo con nombre `permisos.dat`"
   ]
  },
  {
   "cell_type": "code",
   "execution_count": null,
   "metadata": {},
   "outputs": [],
   "source": []
  },
  {
   "cell_type": "markdown",
   "metadata": {},
   "source": [
    "**14.** Utiliza el método (númerico o simbólico) que quieras para cambiar los permisos de todos los archivos en cuyo nombre este la fecha de mayo (05) que están dentro de la carpetas `CUAUHTEMOC/sectorP/` y `CUAUHTEMOC/sectorO/`. Los permisos deberán quedar de la siguiente manera todos los permisos para el dueño y ningún permiso para el grupo y los demás usuarios."
   ]
  },
  {
   "cell_type": "code",
   "execution_count": null,
   "metadata": {},
   "outputs": [],
   "source": []
  },
  {
   "cell_type": "markdown",
   "metadata": {},
   "source": [
    "\n",
    "\n",
    "## find y grep"
   ]
  },
  {
   "cell_type": "markdown",
   "metadata": {},
   "source": [
    "**15.** ¿Cuántos archivos tienen una extensión de `.txt` y cuántos tienen una extension `.dat`, en toda la base de datos?"
   ]
  },
  {
   "cell_type": "code",
   "execution_count": null,
   "metadata": {},
   "outputs": [],
   "source": []
  },
  {
   "cell_type": "markdown",
   "metadata": {},
   "source": [
    "**16.** ¿Cuántos veces aparece _tu nombre_ (sin apellido) en todos los archivos? "
   ]
  },
  {
   "cell_type": "code",
   "execution_count": null,
   "metadata": {},
   "outputs": [],
   "source": []
  },
  {
   "cell_type": "markdown",
   "metadata": {},
   "source": [
    "**17**. Realiza lo siguiente:\n",
    "\n",
    "$\\; \\; \\; \\; \\;$ a) Crea un archivo cuauhtemoc.data  que contenga las rutas de todos los archivos del directorio CUAUHTEMOC (incluyendo sus subdirectorios)  cuya extensión sea “.dat”"
   ]
  },
  {
   "cell_type": "code",
   "execution_count": null,
   "metadata": {},
   "outputs": [],
   "source": []
  },
  {
   "cell_type": "markdown",
   "metadata": {},
   "source": [
    "$\\; \\; \\; \\; \\;$ b) Crea un archivo coyoacan.dir  que contenga las rutas de todos los archivos del directorio COYOACAN (incluyendo sus subdirectorios) que en su interior contienen la palabra “Perez”. "
   ]
  },
  {
   "cell_type": "code",
   "execution_count": null,
   "metadata": {},
   "outputs": [],
   "source": []
  },
  {
   "cell_type": "markdown",
   "metadata": {},
   "source": [
    "$\\; \\; \\; \\; \\;$ c) Agrega a ese archivo las rutas de los archivos del directorio VENUSTIANO_CARRANZA cuya extensión sea “.txt” y que en su interior contengan la palabra “Luis”."
   ]
  },
  {
   "cell_type": "code",
   "execution_count": null,
   "metadata": {},
   "outputs": [],
   "source": []
  },
  {
   "cell_type": "markdown",
   "metadata": {},
   "source": [
    "$\\; \\; \\; \\; \\;$ d) Crea un archivo llamado MiUsuario.usr que contenga las rutas de todos los archivos de la base (incluyendo sus subdirectorios) que en su interior contengan tu nombre."
   ]
  },
  {
   "cell_type": "code",
   "execution_count": null,
   "metadata": {},
   "outputs": [],
   "source": []
  },
  {
   "cell_type": "markdown",
   "metadata": {},
   "source": [
    "**18**. Contesta lo siguiente:\n",
    "\n",
    "$\\; \\; \\; \\; \\;$ a) ¿En cuántos archivos __NO__ aparecen tus nombres?"
   ]
  },
  {
   "cell_type": "code",
   "execution_count": null,
   "metadata": {},
   "outputs": [],
   "source": []
  },
  {
   "cell_type": "markdown",
   "metadata": {},
   "source": [
    "$\\; \\; \\; \\; \\;$ b) ¿Cuántos veces coincide tus nombres con un archivo que tenga el año de tu nacimiento?"
   ]
  },
  {
   "cell_type": "code",
   "execution_count": null,
   "metadata": {},
   "outputs": [],
   "source": []
  },
  {
   "cell_type": "markdown",
   "metadata": {},
   "source": [
    "$\\; \\; \\; \\; \\;$ c) ¿De cuántos directorios y subdirectorios está compuesta la base de datos?"
   ]
  },
  {
   "cell_type": "code",
   "execution_count": null,
   "metadata": {},
   "outputs": [],
   "source": []
  },
  {
   "cell_type": "markdown",
   "metadata": {},
   "source": [
    "**19.** Realiza lo siguiente:\n",
    "\n",
    "$\\; \\; \\; \\; \\;$ a) Encuentra todos los archivos que cuenten con todos los permisos para todos los usuarios en el directorio BENITO_JUAREZ y escribelos en archivo llamado juarez.prm"
   ]
  },
  {
   "cell_type": "code",
   "execution_count": null,
   "metadata": {},
   "outputs": [],
   "source": []
  },
  {
   "cell_type": "markdown",
   "metadata": {},
   "source": [
    "$\\; \\; \\; \\; \\;$ b) Encuentra todos los archivos que tengan la extensión “.tar” en el directorio IZTAPALAPA y escribelos en archivo llamado iztapalpall.compress"
   ]
  },
  {
   "cell_type": "code",
   "execution_count": null,
   "metadata": {},
   "outputs": [],
   "source": []
  },
  {
   "cell_type": "markdown",
   "metadata": {},
   "source": [
    "**20.** Contesta lo siguiente:\n",
    "\n",
    "$\\; \\; \\; \\; \\;$ a) ¿Cuántos archivos tienen un tamaño menor a 1150 bytes?"
   ]
  },
  {
   "cell_type": "code",
   "execution_count": null,
   "metadata": {},
   "outputs": [],
   "source": []
  },
  {
   "cell_type": "markdown",
   "metadata": {},
   "source": [
    "$\\; \\; \\; \\; \\;$ b) ¿Cuántos archivos coinciden con el año 2020 en su nombre y además pertencen al `sectorS`?"
   ]
  },
  {
   "cell_type": "code",
   "execution_count": null,
   "metadata": {},
   "outputs": [],
   "source": []
  }
 ],
 "metadata": {
  "kernelspec": {
   "display_name": "Bash",
   "language": "bash",
   "name": "bash"
  },
  "language_info": {
   "codemirror_mode": "shell",
   "file_extension": ".sh",
   "mimetype": "text/x-sh",
   "name": "bash"
  }
 },
 "nbformat": 4,
 "nbformat_minor": 4
}
