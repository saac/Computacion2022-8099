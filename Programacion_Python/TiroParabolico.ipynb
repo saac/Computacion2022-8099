{
 "cells": [
  {
   "cell_type": "markdown",
   "metadata": {},
   "source": [
    "$\\vec{F} = m\\vec{a}$\n",
    "\n",
    "$m\\vec{g} = m\\vec{a}$\n",
    "\n",
    "$\\vec{g} = \\vec{a}$\n",
    "\n",
    "$g = a_y$"
   ]
  },
  {
   "cell_type": "markdown",
   "metadata": {},
   "source": [
    "$a_y = g$\n",
    "\n",
    "$\\ddot{y} = g$\n",
    "\n",
    "$\\dfrac{d^2y}{dt^2} = g$"
   ]
  },
  {
   "cell_type": "markdown",
   "metadata": {},
   "source": [
    "Se puede ver que el lado izquierdo no depende de y (osea es una ecuación autónoma), por lo que podemos integrar de ambos lados respecto de $t$ sin ningún problema.\n",
    "\n",
    "$ \\displaystyle \\int{\\dfrac{d^2y}{dt^2} \\,dt} = \\int g \\,dt$\n",
    " \n",
    "\n",
    "$ \\displaystyle \\dfrac{dy}{dt} = v_y(t) =  g t + c $\n",
    "\n",
    "$ \\displaystyle \\int \\dfrac{dy}{dt} = \\int v(t) dt =  \\int g t + c $\n",
    "\n",
    "$ \\implies y(t) =  \\frac{1}{2} g t^2 + c $"
   ]
  },
  {
   "cell_type": "code",
   "execution_count": null,
   "metadata": {},
   "outputs": [],
   "source": []
  },
  {
   "cell_type": "code",
   "execution_count": null,
   "metadata": {},
   "outputs": [],
   "source": []
  }
 ],
 "metadata": {
  "kernelspec": {
   "display_name": "Python 3 (ipykernel)",
   "language": "python",
   "name": "python3"
  },
  "language_info": {
   "codemirror_mode": {
    "name": "ipython",
    "version": 3
   },
   "file_extension": ".py",
   "mimetype": "text/x-python",
   "name": "python",
   "nbconvert_exporter": "python",
   "pygments_lexer": "ipython3",
   "version": "3.10.6"
  }
 },
 "nbformat": 4,
 "nbformat_minor": 2
}
