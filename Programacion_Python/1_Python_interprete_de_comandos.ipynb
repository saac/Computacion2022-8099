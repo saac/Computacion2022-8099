{
 "cells": [
  {
   "cell_type": "markdown",
   "metadata": {},
   "source": [
    "# Introducción a las herramientas del cómputo científico.\n",
    "\n",
    "Sergio A. Alcalá Corona <br>\n",
    "Sergio A. Sánchez Chávez\n",
    "\n",
    "---\n",
    "---"
   ]
  },
  {
   "cell_type": "markdown",
   "metadata": {},
   "source": [
    "# PROGRAMACIÓN EN PYTHON\n",
    "\n",
    "## Interprete de comandos de *Python* (Ipython o Jupyter), manejo de arreglos y matrices.\n",
    "\n",
    "En este *Notebook* presentaremos de manera muy breve cómo es que el interprete de comandos de *Python* interactua con las celdas de *Jupyter*.  También mostraremos los elementos básicos del uso de *Python* (como un interprete de comandos) así como el manejo de arreglos y matrices.\n",
    "\n",
    "Este *Notebook*, como los demás de *Python* para este curso son muy básicos. Existen en la web una enorme cantidad de tutoriales, videos, documentacuón oficial y sitos de ayuda especifica (como [StackOverflow](https://stackoverflow.com/) \\**) que te ayudarán a ir mejorando tu programación este noble lenguaje.\n",
    "\n",
    "\\** **Nota:** Cuando busques algo en StackOverflow, asegurate que la respuesta a la pregunta formulada tenga una palomita verde. Esto quiere decir que la respuesta ha sido verficada y que funciona.\n",
    "\n",
    "---\n"
   ]
  },
  {
   "cell_type": "markdown",
   "metadata": {},
   "source": [
    "## Python\n",
    "\n",
    "**Python** es un interprete de comandos que se ejecuta en una terminal de linux. En este se escriben comandos como **entrada** y el interprete regresa una respuesta como **salida**.\n",
    "\n",
    "Es muy similar a otros interpretes de comandos como el shell de de linux o *gnuplot*. \n",
    "\n",
    "Además se puede utilizar para realizar computo científico de una manera muy similar a algunos interpretes de comandos muy populares como **MathLab**, **Mathematica** o **Maple**.\n",
    "\n",
    "Además de esto Python puede guardar datos como texto o valores numéricos en variables.\n",
    "\n",
    "Así como utilizar estructuras de control, lo que permite realizar instrucciones repetidamente o evaluar valores para poder tomar decisiones.\n",
    "\n",
    "De esta manera al igual que en *MathLab*, *Mathematica* o *Maple*, se pueden escribir scripts para  realizar cálculos de computo científico, ya que dispone de un extenso numero de librerías (o bibliotecas) diseñadas para realizar fácilmente diferentes tareas.\n",
    "\n",
    "Así *Python* no solo es un interprete de comandos, sino un lenguaje de programación (interpretado), que por si fuera poco es orientado a objetos, ya que las bibliotecas y funciones que se pueden construir permiten programarse y usarse bajo este paradigma.\n",
    "\n",
    "A pesar de su gran **robustez** y versatilidad Python es un lenguaje muy fácil de  aprender y de usar. Por lo que es ideal para comenzar a programar y como una herramienta eficaz para acercarse por primera vez al computo científico."
   ]
  },
  {
   "cell_type": "markdown",
   "metadata": {},
   "source": [
    "### *Ipython* y celdas de Jupyter\n",
    "\n",
    "**ipython** (*Interactive Python*) es un interprete de Python pero mucho mas robusto que el nativo (y es la base de los cuadernos de *Jupyter*), está diseñado para maximizar la productividad al utilizar Python. Aquí podemos encontrar ciertas facilidades, utilidades y comandos que no existen en otros interpretes de Python.\n",
    "\n",
    "Por ejemplo completar palabras parciales con la tecla <TAB>, o bien podemos ejecutar un comando del shell de linux anteponiendo el símbolo `!`"
   ]
  },
  {
   "cell_type": "code",
   "execution_count": null,
   "metadata": {},
   "outputs": [],
   "source": [
    "!pwd"
   ]
  },
  {
   "cell_type": "code",
   "execution_count": null,
   "metadata": {},
   "outputs": [],
   "source": [
    "!ls"
   ]
  },
  {
   "cell_type": "markdown",
   "metadata": {},
   "source": [
    "Además, se cuenta con los comandos `who` y `whos` que proveen información de las funciones nuevas agregadas en la sesión.\n",
    "\n",
    "Así también, la documentación de cualquier función o comando está disponible al poner `?`, por ejemplo:"
   ]
  },
  {
   "cell_type": "code",
   "execution_count": null,
   "metadata": {},
   "outputs": [],
   "source": [
    "who?"
   ]
  },
  {
   "cell_type": "markdown",
   "metadata": {},
   "source": [
    "Y para funciones, se puede consultar código fuente de estas (cuando está disponible) usando `??` ."
   ]
  },
  {
   "cell_type": "code",
   "execution_count": null,
   "metadata": {},
   "outputs": [],
   "source": [
    "range??"
   ]
  },
  {
   "cell_type": "markdown",
   "metadata": {},
   "source": [
    "### Bitacora\n",
    "\n",
    "Cuando usemos el entorno `Ipyton` es posible guardar una **bitacora** (*log*) de la sesión. Esto se logra mediante el comando `logstart`."
   ]
  },
  {
   "cell_type": "code",
   "execution_count": null,
   "metadata": {},
   "outputs": [],
   "source": [
    "logstart  BitacoraDeHoy.py"
   ]
  },
  {
   "cell_type": "markdown",
   "metadata": {},
   "source": [
    "Al ingresar el comando `logstart`, seguido del *nombre del archivo* que le queramos poner, todo lo que se teclea en la sesión de `Ipyton` se guarda (incluso los fallos) dentro del archivo, en este caso el archivo donde se guarda todo se llama   `BitacoraDeHoy.py`, pero se puede llamar de cualquier forma."
   ]
  },
  {
   "cell_type": "markdown",
   "metadata": {},
   "source": [
    "## BIBLIOTECAS\n",
    "\n",
    "La gran versatilidad de python vine dada en gran parte por el conjunto de **bibliotecas** que este ya tiene incorporadas, así que hay que aprovechar lo que ya esta hecho! Por ejemplo:\n",
    "\n",
    "* `python-numpy` **biblioteca de arreglos matemáticos**\n",
    "\n",
    "\n",
    "* `python-scipy` **rutinas para uso científico**\n",
    "\n",
    "\n",
    "* `python-matplotlib` **gráficas en 2 dimensiones**\n",
    "\n",
    "\n",
    "* `python-pandas` **para manejo de DataFrames**\n",
    "\n",
    "\n",
    "<!-- * `python-visual` **animaciones en 3 dimensiones**\n",
    "\n",
    "\n",
    "* `mayavi2` -->"
   ]
  },
  {
   "cell_type": "markdown",
   "metadata": {},
   "source": [
    "Para instalar *bibliotecas* en python podemos correr desde la Terminal (*bash*) el siguiete comando\n",
    "\n",
    "`python -m pip install` *`BIBLIOTECA`*"
   ]
  },
  {
   "cell_type": "markdown",
   "metadata": {},
   "source": [
    "Python cuenta una biblioteca estándar amplia, lo cual siempre está disponible en cualquier instalación de Python.\n",
    "\n",
    "La documentación para esta biblioteca está disponible en http://docs.python.org/library/\n",
    "\n",
    "Sin embargo para poder hacer un uso mucho más amplio y poderoso de python se puede hacer uso del resto de las bibliotecas disponibles una vez que estén instaladas. Por ejemplo para llevar a cabo cálculos con funciones más avanzadas, es necesario **importar** la biblioteca estándar de matemáticas `math`.\n",
    "\n",
    "Así ya instaladas se puede hacer uso de las bibliotecas **importándolas**, para que *python* sepa que las debe usar.\n",
    "\n",
    "Para esto se debe dar una instrucción especial (*sentencia de importación*) para que python (ya sea en el *interprete de comandos*, `Ipython`, `Jupyter` bien en un *script*) pueda acceder a ellas.\n",
    "\n",
    "Para poder usar una biblioteca (o parte de ella) simplemente se tiene que indicar que biblioteca estamos llamando e importar de ella lo que vamos a usar.\n",
    "\n",
    "Por ejemplo:"
   ]
  },
  {
   "cell_type": "code",
   "execution_count": null,
   "metadata": {},
   "outputs": [],
   "source": [
    "from fractions import Fraction"
   ]
  },
  {
   "cell_type": "markdown",
   "metadata": {},
   "source": [
    "Aquí se está importando la función `Fraction` de la biblioteca `fractions` (que está en la sección 9 de la biblioteca estándar). O bien:"
   ]
  },
  {
   "cell_type": "code",
   "execution_count": null,
   "metadata": {},
   "outputs": [],
   "source": [
    "from math import *"
   ]
  },
  {
   "cell_type": "markdown",
   "metadata": {},
   "source": [
    "Aquí se está importando **todas** las funciones de las bibliotecas `math` y de la biblioteca `visual`.\n",
    "\n",
    "**NOTA**: Cuando llamamos una función de una biblioteca que no está instalada o no se ha importado python nos reportará un error."
   ]
  },
  {
   "cell_type": "markdown",
   "metadata": {},
   "source": [
    "También se puede importar parcialmente una biblioteca. Es decir, sólo la sub-biblioteca que nos interese, para ser el código más eficiente. Por ejemplo:"
   ]
  },
  {
   "cell_type": "code",
   "execution_count": null,
   "metadata": {},
   "outputs": [],
   "source": [
    "from scipy import stats"
   ]
  },
  {
   "cell_type": "markdown",
   "metadata": {},
   "source": [
    "Y también se puede importar la biblioteca bajo un *alias* que la contenga, por ejemplo:"
   ]
  },
  {
   "cell_type": "code",
   "execution_count": null,
   "metadata": {},
   "outputs": [],
   "source": [
    "import pandas as pd"
   ]
  },
  {
   "cell_type": "markdown",
   "metadata": {},
   "source": [
    "Como ya se menciono *Python* es tan poderoso pues es lenguaje **orientado a objetos**.\n",
    "\n",
    "Cada **\"cosa\"** en *Python* es un **objeto**, que tiene propiedades y operaciones disponibles (**métodos**). \n",
    "\n",
    "Por ejemplo, `Fraction` es un tipo de objeto (**clase**); sus operaciones están disponibles en *Ipython* a través de `Fraction.<TAB>`. \n",
    "\n",
    "Las que empiezan con `__` son internos y deberan de ignorarse por el momento; las demás son accesibles al usuario."
   ]
  },
  {
   "cell_type": "code",
   "execution_count": null,
   "metadata": {},
   "outputs": [],
   "source": [
    "Fraction."
   ]
  },
  {
   "cell_type": "code",
   "execution_count": null,
   "metadata": {},
   "outputs": [],
   "source": [
    "pd."
   ]
  },
  {
   "cell_type": "markdown",
   "metadata": {},
   "source": [
    "## Manejo de Información\n",
    "\n",
    "Python (ya sea mediante el interprete de comandos o bien mediante el entorno *Ipython* o *Jupyter*) nos permite resolver problemas y realizar operaciones matemáticas de una manera  interactiva, en la que se ejecutan comandos (entrada) y *python* a su vez da una respuesta (salida) en el mismo momento. De esta manera, *python* se puede usar como si fuera una **calculadora** muy potente.\n",
    "\n",
    "De esta manera podemos realizar funciones aritméticas usando los operadores que ya se han mencionado y que son estándares en casi todos los lenguajes de programación Suma (`+`), Resta (`-`), Producto (`*`), División (`/`)."
   ]
  },
  {
   "cell_type": "markdown",
   "metadata": {},
   "source": [
    "### ARITMÉTICA"
   ]
  },
  {
   "cell_type": "code",
   "execution_count": null,
   "metadata": {},
   "outputs": [],
   "source": [
    "3 + 2"
   ]
  },
  {
   "cell_type": "code",
   "execution_count": null,
   "metadata": {},
   "outputs": [],
   "source": [
    "3 * (-7.1 + 10**2)"
   ]
  },
  {
   "cell_type": "markdown",
   "metadata": {},
   "source": [
    "Aquí `**` indica una potencia, y los paréntesis alteran la prioridad en las operaciones.\n"
   ]
  },
  {
   "cell_type": "code",
   "execution_count": null,
   "metadata": {},
   "outputs": [],
   "source": [
    "1/2 # En python 2.x la división entre dos enteros da un entero."
   ]
  },
  {
   "cell_type": "markdown",
   "metadata": {},
   "source": [
    "Los números sin punto decimal se consideran enteros, y los con punto decimal flotantes (de doble precisión).\n",
    "\n",
    "Los enteros pueden ser arbitrariamente grandes:"
   ]
  },
  {
   "cell_type": "code",
   "execution_count": null,
   "metadata": {},
   "outputs": [],
   "source": [
    "a = 2 ** 2 ** 2 ** 2 ** 2"
   ]
  },
  {
   "cell_type": "markdown",
   "metadata": {},
   "source": [
    "Corre la siguiente celda para ver que número es `a`"
   ]
  },
  {
   "cell_type": "code",
   "execution_count": null,
   "metadata": {},
   "outputs": [],
   "source": [
    "print(a)"
   ]
  },
  {
   "cell_type": "markdown",
   "metadata": {},
   "source": [
    "Python también cuenta con números complejos, utilizando la notación `1j` para la raiz de `−1`:"
   ]
  },
  {
   "cell_type": "code",
   "execution_count": null,
   "metadata": {},
   "outputs": [],
   "source": [
    "1 + 3j"
   ]
  },
  {
   "cell_type": "code",
   "execution_count": null,
   "metadata": {},
   "outputs": [],
   "source": [
    "1j * 1j"
   ]
  },
  {
   "cell_type": "code",
   "execution_count": null,
   "metadata": {},
   "outputs": [],
   "source": [
    "j # sólito, da un error"
   ]
  },
  {
   "cell_type": "markdown",
   "metadata": {},
   "source": [
    "`#` indica un comentario (no se lee, por lo que no cuenta) que se extiende hasta el final de la línea."
   ]
  },
  {
   "cell_type": "code",
   "execution_count": null,
   "metadata": {},
   "outputs": [],
   "source": [
    "# Esto es un \"comentario\" (no se lee, por lo que no cuenta) que se extiende hasta el final de la línea."
   ]
  },
  {
   "cell_type": "markdown",
   "metadata": {},
   "source": [
    "*Python* también incluye de forma nativa variables para número irracionales muy usados como $e$ y $\\pi$:"
   ]
  },
  {
   "cell_type": "code",
   "execution_count": null,
   "metadata": {},
   "outputs": [],
   "source": [
    "e"
   ]
  },
  {
   "cell_type": "code",
   "execution_count": null,
   "metadata": {},
   "outputs": [],
   "source": [
    "pi"
   ]
  },
  {
   "cell_type": "markdown",
   "metadata": {},
   "source": [
    "### VARIABLES\n",
    "\n",
    "Para llevar a cabo cálculos, necesitamos **variables**.\n",
    "Las variables se declaran sin **necesidad de indicar su tipo de dato** (entero, flotante, etc.):"
   ]
  },
  {
   "cell_type": "code",
   "execution_count": null,
   "metadata": {},
   "outputs": [],
   "source": [
    "a = 3\n",
    "b = 17.5\n",
    "c = 1 + 3j\n",
    "\n",
    "print (a + b / c)"
   ]
  },
  {
   "cell_type": "markdown",
   "metadata": {},
   "source": [
    "Python reconoce de manera automática el tipo de la variable según su forma. \n",
    "\n",
    "La función **`print()`** imprime el argumento (valor interior) de la variable."
   ]
  },
  {
   "cell_type": "markdown",
   "metadata": {},
   "source": [
    "Recordemos que el símbolo `=` **no es equivalente al símbolo igual en matemáticas**, en programación este símbolo significa **asignación** (es decir, guardar un valor en una variable) y asimismo sirve para reasignarle un valor a la misma. \n",
    "\n",
    "En python, al reasignar una variable, se pierde la información de su valor interior, incluyendo el tipo:"
   ]
  },
  {
   "cell_type": "code",
   "execution_count": null,
   "metadata": {},
   "outputs": [],
   "source": [
    "a = 3\n",
    "a = -5.5"
   ]
  },
  {
   "cell_type": "markdown",
   "metadata": {},
   "source": [
    "Por lo que hay que tener cuidado al usar el el símbolo `=` para no perder información."
   ]
  },
  {
   "cell_type": "markdown",
   "metadata": {},
   "source": [
    "#### Conversión entre tipos de datos.\n",
    "\n",
    "Aunque no haya que declararlos al definir variables, hay distintos tipos de números en Python, principalmente enteros (**`int`**) y flotantes (**`float`**).\n",
    "\n",
    "Para convertir entre diferentes tipos, incluyendo cadenas, podemos utilizar:"
   ]
  },
  {
   "cell_type": "code",
   "execution_count": null,
   "metadata": {},
   "outputs": [],
   "source": [
    "a = float(3)\n",
    "\n",
    "pi_short = float('3.1416')\n",
    "Mypi = int(pi_short)\n",
    "\n",
    "b = int(17.)\n",
    "\n",
    "edad = int(\"19\")\n",
    "\n",
    "year = str(1998)"
   ]
  },
  {
   "cell_type": "code",
   "execution_count": null,
   "metadata": {},
   "outputs": [],
   "source": [
    "a"
   ]
  },
  {
   "cell_type": "code",
   "execution_count": null,
   "metadata": {},
   "outputs": [],
   "source": [
    "pi_short"
   ]
  },
  {
   "cell_type": "code",
   "execution_count": null,
   "metadata": {},
   "outputs": [],
   "source": [
    "Mypi"
   ]
  },
  {
   "cell_type": "code",
   "execution_count": null,
   "metadata": {},
   "outputs": [],
   "source": [
    "type(Mypi)"
   ]
  },
  {
   "cell_type": "code",
   "execution_count": null,
   "metadata": {},
   "outputs": [],
   "source": [
    "edad"
   ]
  },
  {
   "cell_type": "code",
   "execution_count": null,
   "metadata": {},
   "outputs": [],
   "source": [
    "type(edad)"
   ]
  },
  {
   "cell_type": "code",
   "execution_count": null,
   "metadata": {},
   "outputs": [],
   "source": [
    "year"
   ]
  },
  {
   "cell_type": "code",
   "execution_count": null,
   "metadata": {},
   "outputs": [],
   "source": [
    "type(year)"
   ]
  },
  {
   "cell_type": "code",
   "execution_count": null,
   "metadata": {},
   "outputs": [],
   "source": [
    "len(year)"
   ]
  },
  {
   "cell_type": "markdown",
   "metadata": {},
   "source": [
    "Las cadenas en Python son cadenas de caracteres entre apóstrofes o comillas."
   ]
  },
  {
   "cell_type": "code",
   "execution_count": null,
   "metadata": {},
   "outputs": [],
   "source": [
    "\"hola\"\n",
    "'mi edad es: '"
   ]
  },
  {
   "cell_type": "markdown",
   "metadata": {},
   "source": [
    "se pueden concaternar cadenas usado el simbolo `+`"
   ]
  },
  {
   "cell_type": "code",
   "execution_count": null,
   "metadata": {},
   "outputs": [],
   "source": [
    "cadena = \"hola \" + 'mi edad es: '"
   ]
  },
  {
   "cell_type": "code",
   "execution_count": null,
   "metadata": {},
   "outputs": [],
   "source": [
    "cadena"
   ]
  },
  {
   "cell_type": "code",
   "execution_count": null,
   "metadata": {},
   "outputs": [],
   "source": [
    "len(cadena)"
   ]
  },
  {
   "cell_type": "markdown",
   "metadata": {},
   "source": [
    "#### Aritmética con precisión arbitraria.\n",
    "\n",
    "A veces, es necesario poder llevar a cabo operaciones aritméticas con números flotantes (*reales*) con precisión superior a los **16 dígitos** que provee el **float** (número de **doble precisión**) de Python. Para hacerlo, existen varios proyectos que proveen bibliotecas con este fin.\n",
    "\n",
    "Una opción, la biblioteca **`mpmath`**, que está escrita completamente en Python. En principio eso lo hace más lento, pero más fácil de entender y modificar el código.\n",
    "\n",
    "Para cargar la biblioteca, hacemos:"
   ]
  },
  {
   "cell_type": "code",
   "execution_count": null,
   "metadata": {},
   "outputs": [],
   "source": [
    "from mpmath import *"
   ]
  },
  {
   "cell_type": "markdown",
   "metadata": {},
   "source": [
    "## Arreglos\n",
    "\n",
    "En Python hay 3 tipos diferentes de arreglos. Las **listas**, las **n-adas** (o tuples) y los **arreglos numpy**, estos últimos son mas robustos y con ellos se puede representar vectores e incluso matrices.\n",
    "\n",
    "### Listas\n",
    "\n",
    "La estructura de datos principal en Python es la lista. Consiste literalmente en una lista ordenada de cosas, y\n",
    "reemplaza a los arreglos en otros lenguajes. La diferencia es que las listas en *Python* son automáticamente de longitud variable, y pueden contener objetos de cualquier tipo."
   ]
  },
  {
   "cell_type": "markdown",
   "metadata": {},
   "source": [
    "Una lista se define entre corchetes (`[y]`):"
   ]
  },
  {
   "cell_type": "code",
   "execution_count": null,
   "metadata": {},
   "outputs": [],
   "source": [
    "l = [3, 4, 6]"
   ]
  },
  {
   "cell_type": "markdown",
   "metadata": {},
   "source": [
    "Puede contener cualquier cosa, ¡incluyendo a otras listas!:\n",
    "\n"
   ]
  },
  {
   "cell_type": "code",
   "execution_count": null,
   "metadata": {},
   "outputs": [],
   "source": [
    "l2 = [3.5, -1, \"hola\", [1.0, [3, 17]]]"
   ]
  },
  {
   "cell_type": "markdown",
   "metadata": {},
   "source": [
    "Los elementos de la lista se pueden extraer y cambiar usando la notación `lista[i]`, donde `i` indica el número del elemento, empezando desde `0`:\n",
    "\n"
   ]
  },
  {
   "cell_type": "code",
   "execution_count": null,
   "metadata": {},
   "outputs": [],
   "source": [
    "l3 = [1, 2, 3]\n",
    "print(l3[0],l3[1])"
   ]
  },
  {
   "cell_type": "markdown",
   "metadata": {},
   "source": [
    "Y así también se pueden reasignar sus valores: "
   ]
  },
  {
   "cell_type": "code",
   "execution_count": null,
   "metadata": {},
   "outputs": [],
   "source": [
    "l[0] = 5\n",
    "l"
   ]
  },
  {
   "cell_type": "markdown",
   "metadata": {},
   "source": [
    "También se pueden manipular rebanadas (“*slices*”) de la lista con la notación `l[i:j]` donde `i` indica el elemento a partir del cual se va a tomar la rebanada y `j` indica hasta que elemento se va a tomar la rebanada **sin incluirlo**."
   ]
  },
  {
   "cell_type": "code",
   "execution_count": null,
   "metadata": {},
   "outputs": [],
   "source": [
    "ls = [1, 2, 3, 6, 7]"
   ]
  },
  {
   "cell_type": "code",
   "execution_count": null,
   "metadata": {},
   "outputs": [],
   "source": [
    "ls[1:3]"
   ]
  },
  {
   "cell_type": "code",
   "execution_count": null,
   "metadata": {},
   "outputs": [],
   "source": [
    "ls[:3]"
   ]
  },
  {
   "cell_type": "code",
   "execution_count": null,
   "metadata": {},
   "outputs": [],
   "source": [
    "ls[3:]"
   ]
  },
  {
   "cell_type": "markdown",
   "metadata": {},
   "source": [
    "La longitud de una lista se puede encontrar con `len(`*`lista`*`)`:"
   ]
  },
  {
   "cell_type": "code",
   "execution_count": null,
   "metadata": {},
   "outputs": [],
   "source": [
    "len(ls)"
   ]
  },
  {
   "cell_type": "markdown",
   "metadata": {},
   "source": [
    "Se pueden agregar elementos a la lista con:"
   ]
  },
  {
   "cell_type": "code",
   "execution_count": null,
   "metadata": {},
   "outputs": [],
   "source": [
    "l = [] # lista vacía\n",
    "l.append(17)\n",
    "l.append(3)"
   ]
  },
  {
   "cell_type": "code",
   "execution_count": null,
   "metadata": {},
   "outputs": [],
   "source": [
    "print (l, len(l))"
   ]
  },
  {
   "cell_type": "markdown",
   "metadata": {},
   "source": [
    "Como siempre, las otras operaciones que se pueden llevar a cabo con la lista se pueden averiguar en ipython con:\n",
    "`l.<TABULADOR>`"
   ]
  },
  {
   "cell_type": "code",
   "execution_count": null,
   "metadata": {},
   "outputs": [],
   "source": [
    "l."
   ]
  },
  {
   "cell_type": "markdown",
   "metadata": {},
   "source": [
    "### La función *range()*"
   ]
  },
  {
   "cell_type": "markdown",
   "metadata": {},
   "source": [
    "Para averiguar que es lo que hace una función, se puede investigar de manera interactiva:"
   ]
  },
  {
   "cell_type": "code",
   "execution_count": null,
   "metadata": {},
   "outputs": [],
   "source": [
    "range??"
   ]
  },
  {
   "cell_type": "markdown",
   "metadata": {},
   "source": [
    "`range(N)` en `python 2.x` devuelve una lista que contiene una progresión aritmética de enteros. Sin embargo en `python 3.x`,`range` es una función que nos devuelve un rango de números naturales a los cuales podemos acceder por medio de un iterador."
   ]
  },
  {
   "cell_type": "code",
   "execution_count": null,
   "metadata": {},
   "outputs": [],
   "source": [
    "range(10)"
   ]
  },
  {
   "cell_type": "markdown",
   "metadata": {},
   "source": [
    "Para obtener una _lista_ con los diez primeros números podemos utilizar un `for` (lo explicaremos más adelante) de la siguiente manera:"
   ]
  },
  {
   "cell_type": "code",
   "execution_count": null,
   "metadata": {},
   "outputs": [],
   "source": [
    "[i for i in range(10)]"
   ]
  },
  {
   "cell_type": "markdown",
   "metadata": {},
   "source": [
    "Nótese que la lista comienza en 0 (cero) y que se omite el elemento final, por ejemplo para obtner una lista de cuatro elementos que llegue hasta el 3 se tiene:"
   ]
  },
  {
   "cell_type": "code",
   "execution_count": null,
   "metadata": {},
   "outputs": [],
   "source": [
    "[i for i in range(4)]"
   ]
  },
  {
   "cell_type": "markdown",
   "metadata": {},
   "source": [
    "También se le puede indicar en donde inicia y donde termina la lista:"
   ]
  },
  {
   "cell_type": "code",
   "execution_count": null,
   "metadata": {},
   "outputs": [],
   "source": [
    "[i for i in range(3,10)]"
   ]
  },
  {
   "cell_type": "markdown",
   "metadata": {},
   "source": [
    "O bien también se le puede indicar un paso de incremento:"
   ]
  },
  {
   "cell_type": "code",
   "execution_count": null,
   "metadata": {},
   "outputs": [],
   "source": [
    "[i for i in range(3,17,2)]"
   ]
  },
  {
   "cell_type": "code",
   "execution_count": null,
   "metadata": {},
   "outputs": [],
   "source": [
    "[i for i in range(3,17,3)]"
   ]
  },
  {
   "cell_type": "code",
   "execution_count": null,
   "metadata": {},
   "outputs": [],
   "source": [
    "[i for i in range(3,17,5)]"
   ]
  },
  {
   "cell_type": "markdown",
   "metadata": {},
   "source": [
    "Sobra decir que estas lista generadas por ´range´ las podemos almacenar en una variable."
   ]
  },
  {
   "cell_type": "code",
   "execution_count": null,
   "metadata": {},
   "outputs": [],
   "source": [
    "x = [i for i in range(3,17,5)]"
   ]
  },
  {
   "cell_type": "code",
   "execution_count": null,
   "metadata": {},
   "outputs": [],
   "source": [
    "print(x)"
   ]
  },
  {
   "cell_type": "markdown",
   "metadata": {},
   "source": [
    "También nótese que range no acepta argumentos de punto flotante."
   ]
  },
  {
   "cell_type": "code",
   "execution_count": null,
   "metadata": {},
   "outputs": [],
   "source": [
    "[i for i in range(3.,10.)]"
   ]
  },
  {
   "cell_type": "markdown",
   "metadata": {},
   "source": [
    "## Arreglos numpy (vectores).\n",
    "\n",
    "Por lo general las listas y *tuples* se utilizan para guardar y manipular datos. Sin embargo, las listas no se comportan como vectores, y menos como matrices (al sumarlos no se comportan de la manera adecuada, etc.). El propósito de la biblioteca numpy es justamente el de proporcionar objetos que representan a vectores y matrices matemáticos, con todas las bondades que traen consigo este tipo de objetos.\n",
    "\n",
    "La biblioteca se carga con:"
   ]
  },
  {
   "cell_type": "code",
   "execution_count": null,
   "metadata": {},
   "outputs": [],
   "source": [
    "from numpy import *"
   ]
  },
  {
   "cell_type": "markdown",
   "metadata": {},
   "source": [
    "Y provee muchas funciones para trabajar con vectores y matrices.\n",
    "\n",
    "\n",
    "Los vectores se llaman (aunque es un poco confuso) **arrays**, (arreglos) y se pueden crear de distintas maneras. Son como listas, pero con propiedades y **métodos** adicionales para funcionar como objetos matemáticos. La manera más general de crear un vector es justamente convirtiendolo desde una lista de números:"
   ]
  },
  {
   "cell_type": "code",
   "execution_count": null,
   "metadata": {},
   "outputs": [],
   "source": [
    "from numpy import *\n",
    "a = array( [1, 2, -1, 100] )"
   ]
  },
  {
   "cell_type": "code",
   "execution_count": null,
   "metadata": {},
   "outputs": [],
   "source": [
    "a"
   ]
  },
  {
   "cell_type": "markdown",
   "metadata": {},
   "source": [
    "Un vector de este tipo puede contener sólo un tipo de objetos, a diferencia de una lista normal de *Python*. Si todos los números en la lista son enteros, entonces el tipo del arreglo también lo es, como se puede comprobar con"
   ]
  },
  {
   "cell_type": "code",
   "execution_count": null,
   "metadata": {},
   "outputs": [],
   "source": [
    "a.dtype"
   ]
  },
  {
   "cell_type": "markdown",
   "metadata": {},
   "source": [
    "Es común querer crear vectores de cierto tamaño con todos ceros:"
   ]
  },
  {
   "cell_type": "code",
   "execution_count": null,
   "metadata": {},
   "outputs": [],
   "source": [
    "b = zeros(10)\n",
    "print (b)"
   ]
  },
  {
   "cell_type": "markdown",
   "metadata": {},
   "source": [
    "o todos unos:"
   ]
  },
  {
   "cell_type": "code",
   "execution_count": null,
   "metadata": {},
   "outputs": [],
   "source": [
    "b = ones(10)\n",
    "print (b)"
   ]
  },
  {
   "cell_type": "markdown",
   "metadata": {},
   "source": [
    "También hay distintas maneras de crear vectores que consisten en rangos ordenados, por ejemplo **`arange`**, que funciona como `range`, con un punto inicial, un punto final, y un paso:"
   ]
  },
  {
   "cell_type": "code",
   "execution_count": null,
   "metadata": {},
   "outputs": [],
   "source": [
    "a = arange(0., 10., 0.1)\n",
    "a"
   ]
  },
  {
   "cell_type": "markdown",
   "metadata": {},
   "source": [
    "y **`linspace`**, donde se especifica puntos iniciales y finales y un número de entradas:"
   ]
  },
  {
   "cell_type": "code",
   "execution_count": null,
   "metadata": {},
   "outputs": [],
   "source": [
    "l = linspace(0., 10., 11)\n",
    "l"
   ]
  },
  {
   "cell_type": "markdown",
   "metadata": {},
   "source": [
    "Una notación abreviada para construir vectores es `r_`, que se puede pensar como una abreviación de *“vector renglón”*:\n"
   ]
  },
  {
   "cell_type": "code",
   "execution_count": null,
   "metadata": {},
   "outputs": [],
   "source": [
    "a = r_[1,2,10,-1.]\n",
    "a"
   ]
  },
  {
   "cell_type": "markdown",
   "metadata": {},
   "source": [
    "Este método se extiende para dar una manera rápida de construir rangos:"
   ]
  },
  {
   "cell_type": "code",
   "execution_count": null,
   "metadata": {},
   "outputs": [],
   "source": [
    "r_[3:7]"
   ]
  },
  {
   "cell_type": "code",
   "execution_count": null,
   "metadata": {},
   "outputs": [],
   "source": [
    "r_[3:7:0.5]"
   ]
  },
  {
   "cell_type": "code",
   "execution_count": null,
   "metadata": {},
   "outputs": [],
   "source": [
    "r_[3:7:10j]"
   ]
  },
  {
   "cell_type": "markdown",
   "metadata": {},
   "source": [
    "Este ultimo utiliza un *número complejo* simplemente como otra notación, y es el equivalente de `linspace(3,7,10)`."
   ]
  },
  {
   "cell_type": "markdown",
   "metadata": {},
   "source": [
    "Los vectores creados de esta manera se pueden sumar, restar etc., como si fueran vectores matemáticos. Todas las operaciones se llevan a cabo entrada por entrada:"
   ]
  },
  {
   "cell_type": "code",
   "execution_count": null,
   "metadata": {},
   "outputs": [],
   "source": [
    "v1 = array( [1., 4., 7. ])\n",
    "v2 = array( [1., 2., -2. ])\n",
    "\n",
    "print(v1, v2)"
   ]
  },
  {
   "cell_type": "code",
   "execution_count": null,
   "metadata": {},
   "outputs": [],
   "source": [
    "v1+v2"
   ]
  },
  {
   "cell_type": "code",
   "execution_count": null,
   "metadata": {},
   "outputs": [],
   "source": [
    "v1-v2"
   ]
  },
  {
   "cell_type": "code",
   "execution_count": null,
   "metadata": {},
   "outputs": [],
   "source": [
    "v1*v2"
   ]
  },
  {
   "cell_type": "code",
   "execution_count": null,
   "metadata": {},
   "outputs": [],
   "source": [
    "v1/v2"
   ]
  },
  {
   "cell_type": "code",
   "execution_count": null,
   "metadata": {},
   "outputs": [],
   "source": [
    "v1**v2"
   ]
  },
  {
   "cell_type": "markdown",
   "metadata": {},
   "source": [
    "Las funciones más comunes entre vectores ya están definidas en **numpy**, entre las cuales se encuentran `dot(v1,v2)` para productos escalares de dos vectores de la misma longitud, y `cross(v1,v2)` para el producto cruz de dos vectores de longitud 3."
   ]
  },
  {
   "cell_type": "code",
   "execution_count": null,
   "metadata": {},
   "outputs": [],
   "source": [
    "dot(v1,v2)"
   ]
  },
  {
   "cell_type": "code",
   "execution_count": null,
   "metadata": {},
   "outputs": [],
   "source": [
    "cross(v1,v2)"
   ]
  },
  {
   "cell_type": "markdown",
   "metadata": {},
   "source": [
    "Además, cualquier función matemática como **`sin`** y **`exp`** se puede aplicar directamente a un vector, `y` regresará un vector compuesto por esta función aplicada a cada entrada del vector. Es más: al definir una función el usuario, esta función normalmente también se pueden aplicar directamente a un vector:\n"
   ]
  },
  {
   "cell_type": "code",
   "execution_count": null,
   "metadata": {},
   "outputs": [],
   "source": [
    "def gauss(x):\n",
    "    return 1./(sqrt(2.)) * exp(-x*x / 2.)"
   ]
  },
  {
   "cell_type": "code",
   "execution_count": null,
   "metadata": {},
   "outputs": [],
   "source": [
    "gauss( r_[0:10] )"
   ]
  },
  {
   "cell_type": "markdown",
   "metadata": {},
   "source": [
    "Para extraer subpartes de un vector, la misma sintaxis funciona como para listas: se extraen componentes (entradas) individuales con"
   ]
  },
  {
   "cell_type": "code",
   "execution_count": null,
   "metadata": {},
   "outputs": [],
   "source": [
    "a = array([0, 1, 2, 3])\n",
    "print (a[0], a[2])"
   ]
  },
  {
   "cell_type": "markdown",
   "metadata": {},
   "source": [
    "y subvectores con"
   ]
  },
  {
   "cell_type": "code",
   "execution_count": null,
   "metadata": {},
   "outputs": [],
   "source": [
    "b = a[1:3]\n",
    "b"
   ]
  },
  {
   "cell_type": "markdown",
   "metadata": {},
   "source": [
    "Nótese, sin embargo, que en este caso la variable `b` no es una copia de esta parte de `a`. Más bien, es una vista de `a`, así que ahora si hacemos:"
   ]
  },
  {
   "cell_type": "code",
   "execution_count": null,
   "metadata": {},
   "outputs": [],
   "source": [
    "b[1] = 10"
   ]
  },
  {
   "cell_type": "markdown",
   "metadata": {},
   "source": [
    "entonces la entrada correspondiente de a ¡también cambia! Este fenómeno también funciona con listas:"
   ]
  },
  {
   "cell_type": "code",
   "execution_count": null,
   "metadata": {},
   "outputs": [],
   "source": [
    "l=[1,2,3]; k=l; k[1] = 10"
   ]
  },
  {
   "cell_type": "code",
   "execution_count": null,
   "metadata": {},
   "outputs": [],
   "source": [
    "l"
   ]
  },
  {
   "cell_type": "code",
   "execution_count": null,
   "metadata": {},
   "outputs": [],
   "source": [
    "k"
   ]
  },
  {
   "cell_type": "markdown",
   "metadata": {},
   "source": [
    "En general, en *Python* las variables son nombres de objetos; al poner `b = a`, **tenemos ¡un mismo objeto con dos nombres!**"
   ]
  },
  {
   "cell_type": "markdown",
   "metadata": {},
   "source": [
    "## Arreglos numpy (Marices).\n",
    "\n",
    "Las matrices se tratan como vectores de vectores, o listas de listas:"
   ]
  },
  {
   "cell_type": "code",
   "execution_count": null,
   "metadata": {},
   "outputs": [],
   "source": [
    "M = array( [ [1, 2], [3, 4] ] )\n",
    "M"
   ]
  },
  {
   "cell_type": "markdown",
   "metadata": {},
   "source": [
    "La forma de la matriz se puede ver con"
   ]
  },
  {
   "cell_type": "code",
   "execution_count": null,
   "metadata": {},
   "outputs": [],
   "source": [
    "M.shape"
   ]
  },
  {
   "cell_type": "markdown",
   "metadata": {},
   "source": [
    "y se puede manipular con"
   ]
  },
  {
   "cell_type": "code",
   "execution_count": null,
   "metadata": {},
   "outputs": [],
   "source": [
    "M.shape = (4, 1)\n",
    "print (M)"
   ]
  },
  {
   "cell_type": "markdown",
   "metadata": {},
   "source": [
    "o con"
   ]
  },
  {
   "cell_type": "code",
   "execution_count": null,
   "metadata": {},
   "outputs": [],
   "source": [
    "M.reshape( 2, 2 )"
   ]
  },
  {
   "cell_type": "markdown",
   "metadata": {},
   "source": [
    "De hecho, eso es una manera util de crear las matrices:"
   ]
  },
  {
   "cell_type": "code",
   "execution_count": null,
   "metadata": {},
   "outputs": [],
   "source": [
    "M = r_[0:4].reshape(2,2)"
   ]
  },
  {
   "cell_type": "markdown",
   "metadata": {},
   "source": [
    "Tambien podemos crear una matriz desde una función:"
   ]
  },
  {
   "cell_type": "code",
   "execution_count": null,
   "metadata": {},
   "outputs": [],
   "source": [
    "def f(i, j):\n",
    "    return i+j\n",
    "\n",
    "M = fromfunction(f, (3, 3))\n",
    "\n",
    "M"
   ]
  },
  {
   "cell_type": "markdown",
   "metadata": {},
   "source": [
    "Dado que las matrices son vectores de vectores, al hacer\n"
   ]
  },
  {
   "cell_type": "code",
   "execution_count": null,
   "metadata": {},
   "outputs": [],
   "source": [
    "print (M[0])"
   ]
  },
  {
   "cell_type": "markdown",
   "metadata": {},
   "source": [
    "nos regresa la primera componente de M, que es justamente un vector (el primer renglón de M). Si queremos cierta entrada de la matriz, entonces más bien necesitamos especificar dos coordenadas:\n"
   ]
  },
  {
   "cell_type": "code",
   "execution_count": null,
   "metadata": {},
   "outputs": [],
   "source": [
    "M[0][1]"
   ]
  },
  {
   "cell_type": "code",
   "execution_count": null,
   "metadata": {},
   "outputs": [],
   "source": [
    "M[0, 1]"
   ]
  },
  {
   "cell_type": "code",
   "execution_count": null,
   "metadata": {},
   "outputs": [],
   "source": [
    "M.item(1)"
   ]
  },
  {
   "cell_type": "markdown",
   "metadata": {},
   "source": [
    "Para extraer ciertas renglones o columnas de `M`, utilizamos una extensión de la notación para vectores:"
   ]
  },
  {
   "cell_type": "code",
   "execution_count": null,
   "metadata": {},
   "outputs": [],
   "source": [
    "M = identity(10)"
   ]
  },
  {
   "cell_type": "code",
   "execution_count": null,
   "metadata": {},
   "outputs": [],
   "source": [
    "M[3:5]"
   ]
  },
  {
   "cell_type": "code",
   "execution_count": null,
   "metadata": {},
   "outputs": [],
   "source": [
    "M[:, 3:5]"
   ]
  },
  {
   "cell_type": "code",
   "execution_count": null,
   "metadata": {},
   "outputs": [],
   "source": [
    "M[3:9, 3:5]     #matriz identidad de 10x10"
   ]
  },
  {
   "cell_type": "markdown",
   "metadata": {},
   "source": [
    "Una función poderosa para construir matrices repetidas es tile"
   ]
  },
  {
   "cell_type": "code",
   "execution_count": null,
   "metadata": {},
   "outputs": [],
   "source": [
    "tile( M, (2,2) )"
   ]
  },
  {
   "cell_type": "markdown",
   "metadata": {},
   "source": [
    "Otros métodos útiles son **`diagonal`**, que regresa una diagonal de un arreglo:"
   ]
  },
  {
   "cell_type": "code",
   "execution_count": null,
   "metadata": {},
   "outputs": [],
   "source": [
    "diagonal(M)"
   ]
  },
  {
   "cell_type": "code",
   "execution_count": null,
   "metadata": {},
   "outputs": [],
   "source": [
    "diagonal(M, 1)"
   ]
  },
  {
   "cell_type": "markdown",
   "metadata": {},
   "source": [
    "y **`diag`**, que construye una matriz con el vector dado como diagonal:"
   ]
  },
  {
   "cell_type": "code",
   "execution_count": null,
   "metadata": {},
   "outputs": [],
   "source": [
    "diag([1,2,3])"
   ]
  },
  {
   "cell_type": "code",
   "execution_count": null,
   "metadata": {},
   "outputs": [],
   "source": [
    "diag([1,2,3], 2)"
   ]
  },
  {
   "cell_type": "markdown",
   "metadata": {},
   "source": [
    "## Números aleatorios.\n",
    "\n",
    "La biblioteca **numpy** incluye un módulo amplio para manipular números aleatorios, llamado **`random`**. Las funciones se llaman, por ejemplo con, `random.random()`. Pero para facilitarnos la vida, podemos importar todas estas funciones al espacio de nombres con:"
   ]
  },
  {
   "cell_type": "code",
   "execution_count": null,
   "metadata": {},
   "outputs": [],
   "source": [
    "from random import *   #'random' ya esta cargado!"
   ]
  },
  {
   "cell_type": "code",
   "execution_count": null,
   "metadata": {},
   "outputs": [],
   "source": [
    "random?"
   ]
  },
  {
   "cell_type": "markdown",
   "metadata": {},
   "source": [
    "Nótese que hay otro módulo random que existe afuera de numpy, con distinta funcionalidad. La funcionalidad básica del módulo es la de generar números aleatorios distribuidos de manera uniforme en el intervalo [0, 1):"
   ]
  },
  {
   "cell_type": "code",
   "execution_count": null,
   "metadata": {},
   "outputs": [],
   "source": [
    "random()"
   ]
  },
  {
   "cell_type": "code",
   "execution_count": null,
   "metadata": {},
   "outputs": [],
   "source": [
    "for i in range(10):\n",
    "    print (random())"
   ]
  }
 ],
 "metadata": {
  "kernelspec": {
   "display_name": "Python 3",
   "language": "python",
   "name": "python3"
  },
  "language_info": {
   "codemirror_mode": {
    "name": "ipython",
    "version": 3
   },
   "file_extension": ".py",
   "mimetype": "text/x-python",
   "name": "python",
   "nbconvert_exporter": "python",
   "pygments_lexer": "ipython3",
   "version": "3.8.10"
  }
 },
 "nbformat": 4,
 "nbformat_minor": 4
}
