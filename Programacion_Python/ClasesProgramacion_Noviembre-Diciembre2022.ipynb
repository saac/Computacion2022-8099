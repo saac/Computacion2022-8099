{
 "cells": [
  {
   "cell_type": "code",
   "execution_count": 77,
   "id": "4ddcae9b",
   "metadata": {},
   "outputs": [],
   "source": [
    "# importacion de bibliotecas\n",
    "\n",
    "import numpy as np\n",
    "import matplotlib.pyplot as plt\n",
    "import pandas as pd"
   ]
  },
  {
   "cell_type": "code",
   "execution_count": null,
   "id": "984b3281",
   "metadata": {},
   "outputs": [],
   "source": []
  },
  {
   "cell_type": "code",
   "execution_count": 2,
   "id": "3fde1c3d",
   "metadata": {},
   "outputs": [],
   "source": [
    "# para saber que hace un modulo o funcion de alguna bibloteca \n",
    "\n",
    "np.argwhere?"
   ]
  },
  {
   "cell_type": "code",
   "execution_count": null,
   "id": "2cbe767e",
   "metadata": {},
   "outputs": [],
   "source": []
  },
  {
   "cell_type": "code",
   "execution_count": 4,
   "id": "45776398",
   "metadata": {},
   "outputs": [],
   "source": [
    "# crear una lista\n",
    "\n",
    "lista1 = [2,\"PALABRA\",(3,4)]"
   ]
  },
  {
   "cell_type": "code",
   "execution_count": 5,
   "id": "8bc9b1a3",
   "metadata": {},
   "outputs": [
    {
     "name": "stdout",
     "output_type": "stream",
     "text": [
      "indice =  0\n",
      "elemento iesimo d ela lista1 =  2\n",
      "indice =  1\n",
      "elemento iesimo d ela lista1 =  PALABRA\n",
      "indice =  2\n",
      "elemento iesimo d ela lista1 =  (3, 4)\n"
     ]
    }
   ],
   "source": [
    "# un ciclo 'for' de 3 pasos\n",
    "\n",
    "for i in range(3):\n",
    "    print(\"indice = \",i)\n",
    "    print(\"elemento iesimo d ela lista1 = \",lista1[i])"
   ]
  },
  {
   "cell_type": "code",
   "execution_count": null,
   "id": "adb510f4",
   "metadata": {},
   "outputs": [],
   "source": []
  },
  {
   "cell_type": "code",
   "execution_count": null,
   "id": "b2709591",
   "metadata": {},
   "outputs": [],
   "source": []
  },
  {
   "cell_type": "code",
   "execution_count": 6,
   "id": "caa1637e",
   "metadata": {},
   "outputs": [],
   "source": [
    "# dos vectores de dim 2\n",
    "\n",
    "a = [2,3]\n",
    "b = [4,5]"
   ]
  },
  {
   "cell_type": "code",
   "execution_count": 7,
   "id": "eddacbd3",
   "metadata": {},
   "outputs": [
    {
     "data": {
      "text/plain": [
       "[2, 3]"
      ]
     },
     "execution_count": 7,
     "metadata": {},
     "output_type": "execute_result"
    }
   ],
   "source": [
    "a"
   ]
  },
  {
   "cell_type": "code",
   "execution_count": 8,
   "id": "4357d139",
   "metadata": {},
   "outputs": [
    {
     "data": {
      "text/plain": [
       "[4, 5]"
      ]
     },
     "execution_count": 8,
     "metadata": {},
     "output_type": "execute_result"
    }
   ],
   "source": [
    "b"
   ]
  },
  {
   "cell_type": "code",
   "execution_count": 9,
   "id": "1508ff1e",
   "metadata": {},
   "outputs": [
    {
     "data": {
      "text/plain": [
       "23"
      ]
     },
     "execution_count": 9,
     "metadata": {},
     "output_type": "execute_result"
    }
   ],
   "source": [
    "# producto punto simple de vectores de dim 2\n",
    "\n",
    "Ppunto = a[0]*b[0] + a[1]*b[1]\n",
    "Ppunto"
   ]
  },
  {
   "cell_type": "code",
   "execution_count": 10,
   "id": "38a81fb8",
   "metadata": {},
   "outputs": [],
   "source": [
    "# producto punto de vectores de cualquier dimension 'n'\n",
    "\n",
    "n = 27\n",
    "vecA = []\n",
    "vecB = []\n",
    "for i in range(n):\n",
    "    vecA.append(i)\n",
    "    vecB.append(i+17)"
   ]
  },
  {
   "cell_type": "code",
   "execution_count": 11,
   "id": "a9cd7703",
   "metadata": {},
   "outputs": [],
   "source": [
    "# vecA"
   ]
  },
  {
   "cell_type": "code",
   "execution_count": null,
   "id": "a050cd38",
   "metadata": {},
   "outputs": [],
   "source": []
  },
  {
   "cell_type": "code",
   "execution_count": 12,
   "id": "cb3f8081",
   "metadata": {},
   "outputs": [],
   "source": [
    "# funcion para realizar el producto punto de vectores de cualquier dimension 'n'\n",
    "\n",
    "def ProdPunto(vA,vB,n):\n",
    "    pp = 0.0\n",
    "    for i in range(n):\n",
    "        pp = pp + vA[i]*vB[i]\n",
    "        \n",
    "    return pp"
   ]
  },
  {
   "cell_type": "code",
   "execution_count": 13,
   "id": "1a674caf",
   "metadata": {},
   "outputs": [
    {
     "data": {
      "text/plain": [
       "12168.0"
      ]
     },
     "execution_count": 13,
     "metadata": {},
     "output_type": "execute_result"
    }
   ],
   "source": [
    "ProdPunto(vecA,vecB,n)"
   ]
  },
  {
   "cell_type": "code",
   "execution_count": null,
   "id": "39284abe",
   "metadata": {},
   "outputs": [],
   "source": []
  },
  {
   "cell_type": "code",
   "execution_count": 14,
   "id": "96125167",
   "metadata": {},
   "outputs": [
    {
     "data": {
      "text/plain": [
       "[[1, 2, 3], [4, 5, 6], [7, 8, 1]]"
      ]
     },
     "execution_count": 14,
     "metadata": {},
     "output_type": "execute_result"
    }
   ],
   "source": [
    "# creamos una matriz a partir de 3 vectores renglon\n",
    "\n",
    "\n",
    "r1 = [1,2,3]\n",
    "r2 = [4,5,6]\n",
    "r3 = [7,8,1]\n",
    "\n",
    "# r3\n",
    "matA = [r1,r2,r3]\n",
    "matA"
   ]
  },
  {
   "cell_type": "code",
   "execution_count": 15,
   "id": "144efdd5",
   "metadata": {},
   "outputs": [
    {
     "data": {
      "text/plain": [
       "26.0"
      ]
     },
     "execution_count": 15,
     "metadata": {},
     "output_type": "execute_result"
    }
   ],
   "source": [
    "#realizamos el producto punto de dos renglones\n",
    "\n",
    "ProdPunto(r1,r3,3)"
   ]
  },
  {
   "cell_type": "code",
   "execution_count": null,
   "id": "81a748a0",
   "metadata": {},
   "outputs": [],
   "source": []
  },
  {
   "cell_type": "code",
   "execution_count": null,
   "id": "093fead0",
   "metadata": {},
   "outputs": [],
   "source": []
  },
  {
   "cell_type": "code",
   "execution_count": 33,
   "id": "3cbd480b",
   "metadata": {},
   "outputs": [],
   "source": [
    "# definimos una funcion para realizar el producto de una matriz por un vector \n",
    "# a partir de la generalizacion del producto punto de dos vectores de cualquier dimension 'dim'\n",
    "\n",
    "def ProdMatVect(matrix,vector,dim):\n",
    "\n",
    "    resultado = []\n",
    "    for i in range(dim):\n",
    "        r = ProdPunto(matrix[i],vector,dim)\n",
    "        resultado.append(r)\n",
    "\n",
    "    return resultado"
   ]
  },
  {
   "cell_type": "code",
   "execution_count": null,
   "id": "d8065f3d",
   "metadata": {},
   "outputs": [],
   "source": []
  },
  {
   "cell_type": "code",
   "execution_count": 16,
   "id": "b42e7fe0",
   "metadata": {},
   "outputs": [
    {
     "data": {
      "text/plain": [
       "[3, 2, 1]"
      ]
     },
     "execution_count": 16,
     "metadata": {},
     "output_type": "execute_result"
    }
   ],
   "source": [
    "v = [3,2,1]\n",
    "v"
   ]
  },
  {
   "cell_type": "code",
   "execution_count": 17,
   "id": "422168c7",
   "metadata": {},
   "outputs": [],
   "source": [
    "dimM = 3"
   ]
  },
  {
   "cell_type": "code",
   "execution_count": null,
   "id": "83b5004a",
   "metadata": {},
   "outputs": [],
   "source": [
    "#realizamos el producto de la matriz 'matA' y el vector 'v'\n",
    "\n",
    "ProdMatVect(matA,v,3)"
   ]
  },
  {
   "cell_type": "code",
   "execution_count": 34,
   "id": "bc139f65",
   "metadata": {},
   "outputs": [
    {
     "data": {
      "text/plain": [
       "[10.0, 28.0, 38.0]"
      ]
     },
     "execution_count": 34,
     "metadata": {},
     "output_type": "execute_result"
    }
   ],
   "source": [
    "\n",
    "\n"
   ]
  },
  {
   "cell_type": "code",
   "execution_count": null,
   "id": "6d737ee0",
   "metadata": {},
   "outputs": [],
   "source": []
  },
  {
   "cell_type": "code",
   "execution_count": 69,
   "id": "3df32391",
   "metadata": {},
   "outputs": [],
   "source": [
    "# Ahora definimos una funcion para realizar el producto de dos matrices \n",
    "# a partir generalizar el producto de una matriz por un vector de cualquier dimension\n",
    "\n",
    "\n",
    "# def ProdMatMat(matrix1,matrix2,dim1,dim2):\n",
    "def ProdMatMat(matrix1,matrix2):\n",
    "    \n",
    "    dim1 = len(matrix1)\n",
    "    dim2 = len(matrix2)\n",
    "    \n",
    "    M = []\n",
    "    \n",
    "    for i in range(dim2): # Es el numero de columnas de la Matriz 2 (derecha)\n",
    "        \n",
    "#         v = []        \n",
    "        v = ProdMatVect(matrix1,matrix2[i],dim1) # Es el numero de renglones de la martiz 1 (izquierda)\n",
    "        M.append(v)\n",
    "        \n",
    "\n",
    "    return M"
   ]
  },
  {
   "cell_type": "code",
   "execution_count": 62,
   "id": "8917f493",
   "metadata": {},
   "outputs": [
    {
     "data": {
      "text/plain": [
       "3"
      ]
     },
     "execution_count": 62,
     "metadata": {},
     "output_type": "execute_result"
    }
   ],
   "source": [
    "len(matB)"
   ]
  },
  {
   "cell_type": "code",
   "execution_count": 63,
   "id": "36fdd6d6",
   "metadata": {},
   "outputs": [],
   "source": [
    "matB = [[0.4, 37.3,103], [10, -5, -.32456], [777, 666, 616]]"
   ]
  },
  {
   "cell_type": "code",
   "execution_count": 64,
   "id": "cc3215e6",
   "metadata": {},
   "outputs": [
    {
     "data": {
      "text/plain": [
       "[[1, 2, 3], [4, 5, 6], [7, 8, 1]]"
      ]
     },
     "execution_count": 64,
     "metadata": {},
     "output_type": "execute_result"
    }
   ],
   "source": [
    "matA"
   ]
  },
  {
   "cell_type": "code",
   "execution_count": 65,
   "id": "fa3daa30",
   "metadata": {},
   "outputs": [
    {
     "data": {
      "text/plain": [
       "[[0.4, 37.3, 103], [10, -5, -0.32456], [777, 666, 616]]"
      ]
     },
     "execution_count": 65,
     "metadata": {},
     "output_type": "execute_result"
    }
   ],
   "source": [
    "matB"
   ]
  },
  {
   "cell_type": "code",
   "execution_count": 66,
   "id": "6f6a6849",
   "metadata": {},
   "outputs": [
    {
     "data": {
      "text/plain": [
       "[[384.0, 806.1, 404.2],\n",
       " [-0.9736800000000001, 13.05264, 29.67544],\n",
       " [3957.0, 10134.0, 11383.0]]"
      ]
     },
     "execution_count": 66,
     "metadata": {},
     "output_type": "execute_result"
    }
   ],
   "source": [
    "# ProdMatMat(matA,matB,len(matA),len(matB))\n",
    "ProdMatMat(matA,matB)"
   ]
  },
  {
   "cell_type": "code",
   "execution_count": null,
   "id": "d0a7622f",
   "metadata": {},
   "outputs": [],
   "source": []
  },
  {
   "cell_type": "code",
   "execution_count": 67,
   "id": "ae849a1b",
   "metadata": {},
   "outputs": [],
   "source": [
    "# MAtriz de dos renglones y 3 Columnas\n",
    "mat2x3 = [[0.4, 37.3,1], [10, -5, -.32456]]\n",
    "\n",
    "# MAtriz de 3 renglones y 2 Columnas\n",
    "mat3x2 = [[0.4, 37.3], [10, -5],[-.32456, -3]]\n",
    "\n",
    "# MAtriz de 2 renglones y 2 Columnas\n",
    "mat2x2 = [[99,42],[777, 666]]"
   ]
  },
  {
   "cell_type": "code",
   "execution_count": null,
   "id": "8a79abfc",
   "metadata": {},
   "outputs": [],
   "source": []
  },
  {
   "cell_type": "code",
   "execution_count": null,
   "id": "233e8619",
   "metadata": {},
   "outputs": [],
   "source": []
  },
  {
   "cell_type": "code",
   "execution_count": null,
   "id": "985a123e",
   "metadata": {},
   "outputs": [],
   "source": []
  },
  {
   "cell_type": "code",
   "execution_count": 87,
   "id": "eb063f77",
   "metadata": {},
   "outputs": [],
   "source": [
    "# asi generamos numero aleatprios a partir de una distribucion normal (con media en 0 y desviacion estandar 1)\n",
    "\n",
    "for i in range(100):\n",
    "    n = np.random.normal()\n",
    "#     print(n)"
   ]
  },
  {
   "cell_type": "code",
   "execution_count": 103,
   "id": "3a532687",
   "metadata": {},
   "outputs": [],
   "source": [
    "# generamos 10,000 numeros aleatorios (de una distribucion normal, con media en 25 y desviacion estandar 3)\n",
    "# y los guardamos en una caja 'x'\n",
    "\n",
    "x = []\n",
    "for i in range(10000):\n",
    "    num = np.random.normal(25,3)\n",
    "    x.append(num)\n",
    "#     print(num)"
   ]
  },
  {
   "cell_type": "code",
   "execution_count": 104,
   "id": "b9355cbe",
   "metadata": {},
   "outputs": [
    {
     "data": {
      "image/png": "[encoded data removed]",
      "text/plain": [
       "<Figure size 640x480 with 1 Axes>"
      ]
     },
     "metadata": {},
     "output_type": "display_data"
    }
   ],
   "source": [
    "# asi podemos graficar un HISTOGRAMA de los 10,000 numeros guardados en la caja 'x'\n",
    "# notese que coincide con la grafica de una campana de Gauss (i.e. una distribucion normal)\n",
    "\n",
    "\n",
    "import matplotlib.pyplot as plt\n",
    "\n",
    "plt.hist(x, bins=100)\n",
    "plt.show()"
   ]
  },
  {
   "cell_type": "code",
   "execution_count": null,
   "id": "03f4a083",
   "metadata": {},
   "outputs": [],
   "source": []
  },
  {
   "cell_type": "code",
   "execution_count": null,
   "id": "32117c55",
   "metadata": {},
   "outputs": [],
   "source": []
  },
  {
   "cell_type": "code",
   "execution_count": null,
   "id": "37dda080",
   "metadata": {},
   "outputs": [],
   "source": []
  },
  {
   "cell_type": "code",
   "execution_count": 116,
   "id": "da1b0d98",
   "metadata": {},
   "outputs": [],
   "source": [
    "# ahora definimios una funcion para generar matrices de nxm con enredas aleatearias\n",
    "# usamos la misma distribucion normal (con media en 25 y desviacion estandar 3)\n",
    "\n",
    "def MatrixGenerator(n,m):\n",
    "    Mtx = []\n",
    "    for i in range(n):\n",
    "        v = []\n",
    "        for j in range(m):\n",
    "            num = np.random.normal(25,3)\n",
    "            num = round(num,3)\n",
    "            v.append(num)\n",
    "        Mtx.append(v)\n",
    "        \n",
    "    return Mtx\n",
    "    \n"
   ]
  },
  {
   "cell_type": "code",
   "execution_count": null,
   "id": "8db32cae",
   "metadata": {},
   "outputs": [],
   "source": []
  },
  {
   "cell_type": "code",
   "execution_count": 117,
   "id": "51c1a933",
   "metadata": {},
   "outputs": [],
   "source": [
    "# generamos dos matrices de 5x 5\n",
    "\n",
    "A = MatrixGenerator(5,5)\n",
    "B = MatrixGenerator(5,5)\n",
    "# print(A)\n",
    "# print(B)\n",
    "# A"
   ]
  },
  {
   "cell_type": "code",
   "execution_count": 120,
   "id": "7e6203f1",
   "metadata": {},
   "outputs": [
    {
     "data": {
      "text/plain": [
       "[[3018.6418970000004,\n",
       "  2812.655732,\n",
       "  3216.595144,\n",
       "  2942.3341609999998,\n",
       "  2703.071539],\n",
       " [3142.6449, 2918.569386, 3347.307859, 3065.283559, 2842.6387170000003],\n",
       " [3303.2930950000004,\n",
       "  3120.0736179999994,\n",
       "  3519.281083,\n",
       "  3211.845296,\n",
       "  2998.910837],\n",
       " [3564.2351630000003,\n",
       "  3335.478439,\n",
       "  3793.3715340000003,\n",
       "  3491.219194,\n",
       "  3224.0007539999997],\n",
       " [3364.029326,\n",
       "  3115.471689,\n",
       "  3579.757786,\n",
       "  3302.3028029999996,\n",
       "  3081.7425249999997]]"
      ]
     },
     "execution_count": 120,
     "metadata": {},
     "output_type": "execute_result"
    }
   ],
   "source": [
    "# y las multiplicamos\n",
    "\n",
    "ProdMatMat(A,B)"
   ]
  },
  {
   "cell_type": "code",
   "execution_count": null,
   "id": "c144d48a",
   "metadata": {},
   "outputs": [],
   "source": []
  },
  {
   "cell_type": "code",
   "execution_count": null,
   "id": "8ef7687f",
   "metadata": {},
   "outputs": [],
   "source": []
  },
  {
   "cell_type": "code",
   "execution_count": null,
   "id": "2368f699",
   "metadata": {},
   "outputs": [],
   "source": []
  },
  {
   "cell_type": "code",
   "execution_count": null,
   "id": "3e5be6a5",
   "metadata": {},
   "outputs": [],
   "source": [
    "# la biblioteca numpy es muy util. Ya trae moudulos para realizar calculos de algebra lineal\n",
    "\n",
    "import numpy as np"
   ]
  },
  {
   "cell_type": "code",
   "execution_count": 121,
   "id": "88155ffd",
   "metadata": {},
   "outputs": [
    {
     "data": {
      "text/plain": [
       "array([ 1.28471019e+02+0.j        , -9.65528912e-01+0.87992012j,\n",
       "       -9.65528912e-01-0.87992012j, -5.98062505e-03+4.23807188j,\n",
       "       -5.98062505e-03-4.23807188j])"
      ]
     },
     "execution_count": 121,
     "metadata": {},
     "output_type": "execute_result"
    }
   ],
   "source": [
    "#calculamos los valores propios de la matriz A, \n",
    "# mediante el uso de la funcion 'eigvals' del modulo 'linalg' la bibliteca 'numpy' (np)\n",
    "\n",
    "np.linalg.eigvals(A)\n"
   ]
  },
  {
   "cell_type": "code",
   "execution_count": null,
   "id": "b46e0d8a",
   "metadata": {},
   "outputs": [],
   "source": []
  },
  {
   "cell_type": "code",
   "execution_count": 130,
   "id": "59e1458a",
   "metadata": {},
   "outputs": [
    {
     "data": {
      "text/plain": [
       "array([[22.1  , 18.77 , 27.414, 26.294, 27.723, 25.503, 25.442],\n",
       "       [31.61 , 29.679, 23.854, 26.087, 30.374, 30.577, 21.812],\n",
       "       [18.598, 25.555, 29.053, 25.333, 27.193, 23.907, 22.756]])"
      ]
     },
     "execution_count": 130,
     "metadata": {},
     "output_type": "execute_result"
    }
   ],
   "source": [
    "# otros ejemplos\n",
    "\n",
    "A = MatrixGenerator(3,7)\n",
    "A = np.array(A)\n",
    "A"
   ]
  },
  {
   "cell_type": "code",
   "execution_count": null,
   "id": "62ac71b3",
   "metadata": {},
   "outputs": [],
   "source": []
  },
  {
   "cell_type": "code",
   "execution_count": 109,
   "id": "913fa99d",
   "metadata": {},
   "outputs": [],
   "source": [
    "n = 100\n",
    "m = 100\n",
    "# MatrixGenerator(n,m)"
   ]
  },
  {
   "cell_type": "code",
   "execution_count": 68,
   "id": "16cdcdda",
   "metadata": {},
   "outputs": [
    {
     "data": {
      "text/plain": [
       "[[1606.1999999999998, 25152.6], [780.0, 4440.0], [-158.13144, -2250.18312]]"
      ]
     },
     "execution_count": 68,
     "metadata": {},
     "output_type": "execute_result"
    }
   ],
   "source": [
    "ProdMatMat(mat2x2,mat3x2)\n",
    "# ProdMatMat(mat2x2,mat2x3,2,3)"
   ]
  },
  {
   "cell_type": "code",
   "execution_count": null,
   "id": "2e591268",
   "metadata": {},
   "outputs": [],
   "source": []
  },
  {
   "cell_type": "code",
   "execution_count": null,
   "id": "a23b5b5b",
   "metadata": {},
   "outputs": [],
   "source": []
  },
  {
   "cell_type": "code",
   "execution_count": 131,
   "id": "e9c24a75",
   "metadata": {},
   "outputs": [],
   "source": [
    "#numpy tambien trae implementado una funcion que realiza el producto punto\n",
    "\n",
    "np.dot?"
   ]
  },
  {
   "cell_type": "code",
   "execution_count": 134,
   "id": "44487dce",
   "metadata": {},
   "outputs": [
    {
     "data": {
      "text/plain": [
       "3.141592653589793"
      ]
     },
     "execution_count": 134,
     "metadata": {},
     "output_type": "execute_result"
    }
   ],
   "source": [
    "# tambien incluye varias constantes y herramientas utiles en ,atematicas\n",
    "# como por ejemplo el valor de pi\n",
    "\n",
    "np.pi"
   ]
  },
  {
   "cell_type": "code",
   "execution_count": null,
   "id": "86593ccd",
   "metadata": {},
   "outputs": [],
   "source": []
  },
  {
   "cell_type": "code",
   "execution_count": null,
   "id": "07674a9a",
   "metadata": {},
   "outputs": [],
   "source": []
  },
  {
   "cell_type": "code",
   "execution_count": 135,
   "id": "fb1d433f",
   "metadata": {},
   "outputs": [],
   "source": [
    "#definamos una funcion (dificil de graficar 'a mano')\n",
    "\n",
    "def f(x):\n",
    "    return np.sin(1/x)"
   ]
  },
  {
   "cell_type": "code",
   "execution_count": 152,
   "id": "efe62f7c",
   "metadata": {},
   "outputs": [],
   "source": [
    "# definimos un dominio para evaluarla (i.e. un intervalo entre -1000 y 1000 de .1 en .1 )\n",
    "\n",
    "dom = np.arange(-1000,1000,.1)"
   ]
  },
  {
   "cell_type": "code",
   "execution_count": 153,
   "id": "c5a62909",
   "metadata": {},
   "outputs": [],
   "source": [
    "#evaluamos la funcion\n",
    "\n",
    "y = f(dom)"
   ]
  },
  {
   "cell_type": "code",
   "execution_count": 155,
   "id": "0429cf5c",
   "metadata": {},
   "outputs": [
    {
     "data": {
      "text/plain": [
       "[<matplotlib.lines.Line2D at 0x7f4cabc1dc00>]"
      ]
     },
     "execution_count": 155,
     "metadata": {},
     "output_type": "execute_result"
    },
    {
     "data": {
      "image/png": "[encoded data removed]",
      "text/plain": [
       "<Figure size 640x480 with 1 Axes>"
      ]
     },
     "metadata": {},
     "output_type": "display_data"
    }
   ],
   "source": [
    "# y la graficamos mediante el uso de la biblioteca matplotlib (plt)\n",
    "\n",
    "plt.plot(y)"
   ]
  },
  {
   "cell_type": "code",
   "execution_count": null,
   "id": "a79233a9",
   "metadata": {},
   "outputs": [],
   "source": []
  },
  {
   "cell_type": "code",
   "execution_count": null,
   "id": "9fe587bf",
   "metadata": {},
   "outputs": [],
   "source": []
  }
 ],
 "metadata": {
  "kernelspec": {
   "display_name": "Python 3 (ipykernel)",
   "language": "python",
   "name": "python3"
  },
  "language_info": {
   "codemirror_mode": {
    "name": "ipython",
    "version": 3
   },
   "file_extension": ".py",
   "mimetype": "text/x-python",
   "name": "python",
   "nbconvert_exporter": "python",
   "pygments_lexer": "ipython3",
   "version": "3.10.6"
  }
 },
 "nbformat": 4,
 "nbformat_minor": 5
}
