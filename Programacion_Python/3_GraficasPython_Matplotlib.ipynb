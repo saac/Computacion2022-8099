{
 "cells": [
  {
   "cell_type": "markdown",
   "metadata": {},
   "source": [
    "# Introducción a las herramientas del cómputo científico.\n",
    "\n",
    "Sergio A. Alcalá Corona <br>\n",
    "Sergio A. Sánchez Chávez\n",
    "\n",
    "---\n",
    "---"
   ]
  },
  {
   "cell_type": "markdown",
   "metadata": {},
   "source": [
    "# PROGRAMACIÓN EN PYTHON\n",
    "\n",
    "## Gráficas con Python.\n",
    "\n",
    "En este *Notebook* expondremos algunos ejemplos de como elaborar gráficas en Python con la biblioteca **Matplotlib**, una de las más usadas.\n",
    "\n",
    "\n",
    "---\n"
   ]
  },
  {
   "cell_type": "markdown",
   "metadata": {},
   "source": [
    "### Uso básico"
   ]
  },
  {
   "cell_type": "markdown",
   "metadata": {},
   "source": [
    "Es posible dibujar gráficas dentro de *Python*, usando el paquete **matplotlib** (que hay que tener instalado).\n",
    "\n",
    "Lo primero es cargar dicha biblioteca; un consenso actual es hacerlo de la siguiente manera:\n",
    "\n",
    "`import NOMBREDELABIBLIOTECA as ABREVIATURA` \n",
    "\n",
    "Dicha convención se puede usar para cualquier otra biblioteca, y así es más fácil llevar un orden y saber de dónde viene cada función."
   ]
  },
  {
   "cell_type": "code",
   "execution_count": null,
   "metadata": {},
   "outputs": [],
   "source": [
    "import matplotlib.pyplot as plt"
   ]
  },
  {
   "cell_type": "markdown",
   "metadata": {},
   "source": [
    "El comando principal de **matplotlib** es **`plot`**.\n",
    "\n",
    "Acepta uno o dos listas (o vectores de *numpy*), que corresponden a los valores de las coordenadas $x$ y $y$ de una gráfica 2D. \n",
    "\n",
    "Así en general, con tener una lista de números (enteros o flotantes) y pasarla como argumento de la función **`plot`** es suficiente para generar una gráfica. La lista de números  corresponderá a las coordenadas en $y$ mientras que los valores en $x$ serán los asociados su posición en la lista.\n",
    "\n",
    "\n",
    "Por ejemplo, si queremos graficar los cuadrados de los números de 1 a 10, podemos hacer:"
   ]
  },
  {
   "cell_type": "code",
   "execution_count": null,
   "metadata": {},
   "outputs": [],
   "source": [
    "from numpy import *\n",
    "\n",
    "x = arange(10)\n",
    "y = x * x\n",
    "\n",
    "plt.plot(x, y)"
   ]
  },
  {
   "cell_type": "code",
   "execution_count": null,
   "metadata": {},
   "outputs": [],
   "source": [
    "x"
   ]
  },
  {
   "cell_type": "markdown",
   "metadata": {},
   "source": [
    "Si queremos puntos en lugar de líneas, hacemos"
   ]
  },
  {
   "cell_type": "code",
   "execution_count": null,
   "metadata": {},
   "outputs": [],
   "source": [
    "plt.plot(x, y, 'o')"
   ]
  },
  {
   "cell_type": "markdown",
   "metadata": {},
   "source": [
    "Otra forma de hacer lo anterior, pero más resumida es:"
   ]
  },
  {
   "cell_type": "code",
   "execution_count": null,
   "metadata": {},
   "outputs": [],
   "source": [
    "y = [ i ** 2 for i in range(10)]\n",
    "plt.plot(y)\n",
    "plt.plot(y, 'ro')"
   ]
  },
  {
   "cell_type": "markdown",
   "metadata": {},
   "source": [
    "Usar la biblioteca de `numpy` es _casi obligatorio_ para elaborar gráficas de funciones. Por lo que es convniente exportarla usando la convención:"
   ]
  },
  {
   "cell_type": "code",
   "execution_count": null,
   "metadata": {},
   "outputs": [],
   "source": [
    "import numpy as np"
   ]
  },
  {
   "cell_type": "markdown",
   "metadata": {},
   "source": [
    "Una mucho mejor forma de graficar es indicar los valores de la abscisa y ordenada de forma independiente. \n",
    "\n",
    "**OJO**: el número de elementos de los arreglos del eje _x_ y del eje _y_ **deben ser iguales**."
   ]
  },
  {
   "cell_type": "code",
   "execution_count": null,
   "metadata": {},
   "outputs": [],
   "source": [
    "x = np.linspace(-2*np.pi,2*np.pi)\n",
    "fx = np.cos(x)\n",
    "plt.plot(x,fx)"
   ]
  },
  {
   "cell_type": "code",
   "execution_count": null,
   "metadata": {},
   "outputs": [],
   "source": [
    "x"
   ]
  },
  {
   "cell_type": "markdown",
   "metadata": {},
   "source": [
    "Puedes colocar varias funciones en la misma gráfica. \n",
    "\n",
    "Para darle diferentes estilos es posible usar una notación abreviada para seleccionar distintos tipos de líneas y  colores. \n",
    "\n",
    "En la siguiente gráfica la función $\\sin(x)$ tiene la opción **`go`**, donde la `g` indica el color de línea, en este caso verde, y la `o` que el marcador para dibujar el seno serán puntos.\n",
    "\n",
    "Mientras que el $\\cos(x)$, tiene la opción **`r--`** donde la `r` indica que la línea será de color rojo y el guión doble `--` señala que la línea será punteada. \n",
    "\n",
    "Para mayor información sobre los colores y los estilos de línea consulta el manual de la función `plt.plot`, recuerda que esto lo puedes hacer ejecutando en una celda individual **`plt.plot?`**."
   ]
  },
  {
   "cell_type": "code",
   "execution_count": null,
   "metadata": {},
   "outputs": [],
   "source": [
    "fx1 = np.sin(x)\n",
    "plt.plot(x,fx,'r--')\n",
    "plt.plot(x,fx1,'go')"
   ]
  },
  {
   "cell_type": "code",
   "execution_count": null,
   "metadata": {},
   "outputs": [],
   "source": [
    "plt.plot?"
   ]
  },
  {
   "cell_type": "markdown",
   "metadata": {},
   "source": [
    "La opción abreviada sólo tiene disponible 7 colores si queremos usar otros colores debemos indicarlo con el argumento `color = ` para consultar los nombres de los colores disponibles dale [click aquí.](https://matplotlib.org/3.1.1/gallery/color/named_colors.html#sphx-glr-gallery-color-named-colors-py) Incluso podemos ingresar el color en el sistema _RBG_ o _CMK_. \n",
    "\n",
    "Además podemos indicar el estilo de línea con argumentos `linestyle = ` o `marker`, o modificar el tamaño del marcador o el ancho de línea con `markersize` y `linewidth`, respectivamente.\n",
    "\n",
    "Para colocar las etiquetas de los ejes y del título de la gráfica usamos `plt.title`, `plt.xlabel` y `plt.ylabel`."
   ]
  },
  {
   "cell_type": "code",
   "execution_count": null,
   "metadata": {},
   "outputs": [],
   "source": [
    "plt.plot(x,fx,color='olive', linestyle=':',linewidth=3)\n",
    "plt.plot(x,fx1,color='#a41b81',marker='+', markersize=9,linestyle='None')\n",
    "plt.title(\"Funciones periodicas\")\n",
    "plt.xlabel(\"x\")\n",
    "plt.ylabel(\"f(x)\")"
   ]
  },
  {
   "cell_type": "markdown",
   "metadata": {},
   "source": [
    "Cuando queremos colocar una etiqueta a las funciones graficadas lo hacemos con el argumento `label` y al final llamamos a la función `plt.legend()`. \n",
    "\n",
    "En el caso que tenemos la opción `loc = ` dentro de `plt.legend` indica donde se colocará el texto de las etiquetas. Por default `matplotlib` tratará de colocar los letreros en el mejor espacio (`loc = 0`)."
   ]
  },
  {
   "cell_type": "code",
   "execution_count": null,
   "metadata": {},
   "outputs": [],
   "source": [
    "plt.plot(x,fx,color='olive', ls='-',lw=2,label='cos(x)')\n",
    "plt.plot(x,fx1,color='#a41b81',marker='.',ms=9,ls='None',label='sen(x)')\n",
    "plt.title(\"Funciones periodicas\")\n",
    "plt.xlabel(\"x\")\n",
    "plt.ylabel(\"f(x)\")\n",
    "plt.legend(loc=2)"
   ]
  },
  {
   "cell_type": "markdown",
   "metadata": {},
   "source": [
    "Puedes optimizar la estetica y estilo (_**pimpear**_) de tu gráfica con mucho detalle."
   ]
  },
  {
   "cell_type": "code",
   "execution_count": null,
   "metadata": {},
   "outputs": [],
   "source": [
    "plt.figure(figsize=(7,7)) # Modifica el tamaño de la gráfica. Esta dado en pulgadas.\n",
    "\n",
    "plt.plot(x,fx,color='olive', ls='-',lw=2,label='cos(x)')\n",
    "plt.plot(x,fx1,color='#a41b81',marker='.',ms=9,ls='None',label='sen(x)')\n",
    "\n",
    "plt.title(\"Funciones periodicas\")\n",
    "plt.xlabel(\"x\")\n",
    "plt.ylabel(\"f(x)\")\n",
    "\n",
    "plt.legend(loc=2)\n",
    "\n",
    "plt.grid(True) # Dibuja en el fondo una rejilla  gris claro \n",
    "\n",
    "# Colocar un texto en la posición señalada\n",
    "plt.text(-np.pi/2, -1.1, 'Minimo',horizontalalignment='center', verticalalignment='baseline') \n",
    "\n",
    "plt.annotate('Maximo',(np.pi/2,1),xytext=(2.5,0.9),\n",
    "             arrowprops=dict(facecolor='black',width=1,headwidth=5,shrink=0.05),\n",
    "             horizontalalignment='left') # Hace una anotación en el lugar indicado, utiliza una flecha para señalar la posición.\n",
    "\n",
    "plt.xlim(-np.pi,np.pi) # Limita la gráfica sobre el eje x\n",
    "\n",
    "yt = np.arange(-1,1.5,0.5) # Este arreglo sirve generar nuevas marcas sobre el eje y\n",
    "\n",
    "plt.yticks(yt) # Con esta función se colocan las nuevas marcas sobre el eje y\n",
    "\n",
    "xt = [-np.pi,0,np.pi] # Este arreglo sirve generar nuevas marcas sobre el eje x\n",
    "\n",
    "xt_labels = ['-pi','0','pi'] # Sobre las marcas se pueden colocar texto \n",
    "\n",
    "plt.xticks(xt,xt_labels) # Con esta función se colocan las nuevas marcas sobre el eje y\n",
    "\n",
    "plt.savefig('funciones.png') # Guarda la gráfica como un archivo independiente. Puedes utilizar la extensión .jpg, .pdf entre otras."
   ]
  },
  {
   "cell_type": "markdown",
   "metadata": {},
   "source": [
    "Para un mejor acabado de la gráfica puedes utilizar $\\LaTeX$, para ello primero hay que utilizar la siguiente instrucción."
   ]
  },
  {
   "cell_type": "code",
   "execution_count": null,
   "metadata": {},
   "outputs": [],
   "source": [
    "from matplotlib import rc\n",
    "\n",
    "rc('text', usetex=True)"
   ]
  },
  {
   "cell_type": "markdown",
   "metadata": {},
   "source": [
    "Cuando necesites utilizar algún simbolo de $\\LaTeX$ escríbelo entre dos signos de dinero `$` tal como lo utilizarías dentro de un archivo `.tex`. \n",
    "\n",
    "En la mayoría de las funciones para las etiquetas la opción `fontsize` es suficiente para modificar el tamaño de la tipografía."
   ]
  },
  {
   "cell_type": "code",
   "execution_count": null,
   "metadata": {},
   "outputs": [],
   "source": [
    "plt.figure(figsize=(7,7))\n",
    "\n",
    "plt.plot(x, fx, color='olive', ls='-', lw=2, label='$\\cos(x)$')\n",
    "\n",
    "plt.plot(x,fx1,color='#a41b81',marker='.',ms=9,ls='None',label='$\\sin(x)$')\n",
    "\n",
    "plt.title(\"Funciones periodicas\",fontsize=20)\n",
    "plt.xlabel(\"$x$\",fontsize=18)\n",
    "plt.ylabel(\"$f(x)$\",fontsize=18)\n",
    "plt.legend(loc=2)\n",
    "\n",
    "plt.grid(True)\n",
    "plt.text(-np.pi/2, -1.1, 'Minimo',horizontalalignment='center',\n",
    "         verticalalignment='baseline')\n",
    "plt.annotate('Maximo',(np.pi/2,1),xytext=(2.5,0.9),\n",
    "             arrowprops=dict(facecolor='black',width=1,headwidth=5,shrink=0.05),\n",
    "             horizontalalignment='left')\n",
    "\n",
    "plt.xlim(-np.pi,np.pi)\n",
    "\n",
    "yt = np.arange(-1,1.5,0.5)\n",
    "plt.yticks(yt,fontsize=18)\n",
    "xt = [-np.pi,0,np.pi]\n",
    "xt_labels = ['$-\\pi$','$0$' ,'$\\pi$']\n",
    "plt.xticks(xt,xt_labels,fontsize=18)\n",
    "\n",
    "plt.savefig('FPeridocas.pdf')"
   ]
  },
  {
   "cell_type": "markdown",
   "metadata": {},
   "source": [
    "### Gráficas log-log o semilogarítmica"
   ]
  },
  {
   "cell_type": "markdown",
   "metadata": {},
   "source": [
    "Vamos a graficar la función $f(x) = x^2$ en el intervalo $[1,100)$. Esta función nos servirá para introduccir las gráficas semilog y loglog.\n",
    "\n",
    "Definimos el intervalo y luego aplicamos la función cuadrática"
   ]
  },
  {
   "cell_type": "code",
   "execution_count": null,
   "metadata": {},
   "outputs": [],
   "source": [
    "x2 = np.linspace(1,1000)\n",
    "fx2 = x2**2"
   ]
  },
  {
   "cell_type": "markdown",
   "metadata": {},
   "source": [
    "La gráfica que por defecto nos arroja es la siguiente:"
   ]
  },
  {
   "cell_type": "code",
   "execution_count": null,
   "metadata": {},
   "outputs": [],
   "source": [
    "plt.plot(x2,fx2)"
   ]
  },
  {
   "cell_type": "markdown",
   "metadata": {},
   "source": [
    "dado que los valores arrojados por la función cuadrática son enormes comparados con los valores de intervalo de entrada de la función, sobre el eje $y$ dominan los millones. Una manera de ver completo el eje $y$ es verlo en escala logarítmica. En este caso en vez de `plot` usamos `semilogy` (también se puede aplicar sobre el eje $x$ con `semilogx`semilogy)."
   ]
  },
  {
   "cell_type": "code",
   "execution_count": null,
   "metadata": {},
   "outputs": [],
   "source": [
    "plt.semilogy(x2,fx2)"
   ]
  },
  {
   "cell_type": "markdown",
   "metadata": {},
   "source": [
    "Si queremos aplicar la escala logaritmica a los dos ejes usamos `loglog`."
   ]
  },
  {
   "cell_type": "code",
   "execution_count": null,
   "metadata": {},
   "outputs": [],
   "source": [
    "plt.loglog(x2,fx2)"
   ]
  },
  {
   "cell_type": "markdown",
   "metadata": {},
   "source": [
    "### Gráficas en sistema de coordenadas polares"
   ]
  },
  {
   "cell_type": "markdown",
   "metadata": {},
   "source": [
    "Con la función `polar` pueden obtener gráficas en el sistema de coordenadas polar. El primer argumento corresponde a los valores de $\\theta$ mientras que el segundo corresponde a los valores de $r$.\n",
    "\n",
    "Por ejemplo, la función $r(\\theta) = \\theta$ en el intervalo $[0,2\\pi)$ se vería como:"
   ]
  },
  {
   "cell_type": "code",
   "execution_count": null,
   "metadata": {},
   "outputs": [],
   "source": [
    "x = np.linspace(0,2*np.pi)"
   ]
  },
  {
   "cell_type": "markdown",
   "metadata": {},
   "source": [
    "**OJO** la función `plt.polar` trabaja en radianes (al igual que todas las funciones trigonométricas en `numpy`)."
   ]
  },
  {
   "cell_type": "code",
   "execution_count": null,
   "metadata": {},
   "outputs": [],
   "source": [
    "plt.polar(x,x)"
   ]
  },
  {
   "cell_type": "markdown",
   "metadata": {},
   "source": [
    "### Histogramas"
   ]
  },
  {
   "cell_type": "markdown",
   "metadata": {},
   "source": [
    "Otra de las gráficas que más usarán será el histrograma. La manera de obtenerlo es muy sencillo con la función `plt.hist`. \n",
    "\n",
    "Para generar números 1000 aleatorios con la distribución normal lo hacemos con la siguiente función:"
   ]
  },
  {
   "cell_type": "code",
   "execution_count": null,
   "metadata": {},
   "outputs": [],
   "source": [
    "aleatorios = np.random.normal(size=1000)"
   ]
  },
  {
   "cell_type": "code",
   "execution_count": null,
   "metadata": {},
   "outputs": [],
   "source": [
    "plt.figure(figsize=(10,7)) # esta instrucción sirve para modificar el tamaño de al gráfica. El primer número da el ancho y el segundo da lo alto.\n",
    "plt.hist(aleatorios,bins=31,histtype='bar',\n",
    "         align='left',color='magenta',rwidth=0.9)\n",
    "plt.title('Histograma normalizado de números aleatorios generados con la distibución normal')\n",
    "plt.ylabel('Frecuencia')"
   ]
  },
  {
   "cell_type": "markdown",
   "metadata": {},
   "source": [
    "### Subgráficas"
   ]
  },
  {
   "cell_type": "markdown",
   "metadata": {},
   "source": [
    "Las subgráficas es otra de las funciones más útiles y usadas. Con esto se puede comparar diversas gráficas. En este caso `subplot(rcn)` es la función que deben ocupa. Lo que nos puede generar una matrix donde `r` es el número de renglones, `c` el número de columnas y `n` es el número de la gráfica. La numeración de las gráficas empieza desde la esquina superior izquierda y continua como normalmente leemos, de izquierda a derecha y de arriba hacia abajo.\n",
    "\n",
    "En el siguiente ejemplo, mostraremos la función $\\sin(x)$ en el intervalo $[0,2\\pi)$ y sus dos primeros armónicos  y en la última subgráfica los sumaremos."
   ]
  },
  {
   "cell_type": "code",
   "execution_count": null,
   "metadata": {},
   "outputs": [],
   "source": [
    "x = np.linspace(0,2*np.pi,num=200)\n",
    "f1 = np.sin(x)\n",
    "f2 = np.sin(2*x)\n",
    "f3 = np.sin(3*x)\n",
    "f4 = f1+f2+f3"
   ]
  },
  {
   "cell_type": "code",
   "execution_count": null,
   "metadata": {},
   "outputs": [],
   "source": [
    "plt.figure(figsize=(7,7))\n",
    "\n",
    "plt.subplot(221)\n",
    "plt.plot(x,f1)\n",
    "plt.title('$f_1 = \\sin(x)$')\n",
    "\n",
    "plt.subplot(222)\n",
    "plt.plot(x,f2)\n",
    "plt.title('$f_2 = \\sin(2x)$')\n",
    "\n",
    "\n",
    "plt.subplot(223)\n",
    "plt.plot(x,f3)\n",
    "plt.title('$f_2 = \\sin(4x)$')\n",
    "plt.xlabel('$x$')\n",
    "\n",
    "plt.subplot(224)\n",
    "plt.plot(x,f4)\n",
    "plt.title('$f_4 = f_1+f_2+f_3$')\n",
    "plt.xlabel('$x$')\n",
    "\n",
    "plt.tight_layout() # con esta instrucción se autoajustan los espacios entre las gráficas mismas y también con los bordes de la imagen "
   ]
  },
  {
   "cell_type": "markdown",
   "metadata": {},
   "source": [
    "Aqui otro ejemplo de varias gráficas:"
   ]
  },
  {
   "cell_type": "code",
   "execution_count": null,
   "metadata": {},
   "outputs": [],
   "source": [
    "def f(t):\n",
    "    \"\"\"Oscilacion amortiguada\"\"\"\n",
    "    c = cos(2*pi*t)\n",
    "    e = exp(-t)\n",
    "    return c*e\n",
    "\n",
    "t1 = arange(0.0, 5.0, 0.1)\n",
    "t2 = arange(0.0, 5.0, 0.02)\n",
    "t3 = arange(0.0, 2.0, 0.01)\n",
    "\n",
    "#Es una tabla de 2 renglones y columna (21#)\n",
    "#Por lo tanto solo hay 2 espacios para poner figuras!\n",
    "\n",
    "plt.subplot(211) # Grafica uno\n",
    "plt.plot(t1, f(t1), 'bo', t2, f(t2), 'k--', markerfacecolor='green')\n",
    "plt.grid(True)\n",
    "plt.title('Amortiguacion de oscilaciones')\n",
    "plt.ylabel('Amortiguada')\n",
    "\n",
    "plt.subplot(212) # Grafica dos\n",
    "plt.plot(t3, cos(2*pi*t3), 'r.')\n",
    "plt.grid(True)\n",
    "plt.xlabel('tiempo $t$ (s)')\n",
    "plt.ylabel('No amortiguada')\n",
    "\n",
    "\n",
    "# plt.show()   ### Si esto fuera un script de Python hay que llamar este commando para poder ver la gráfica."
   ]
  },
  {
   "cell_type": "markdown",
   "metadata": {},
   "source": [
    "Finalmente, es importante señalar que si queremos hacer nuestras gráficas desde un **Script de Python** es necesarios llamar el comando _**show()**_ con `plt.show()` dentro del script para poder visualizar las gráficas."
   ]
  }
 ],
 "metadata": {
  "kernelspec": {
   "display_name": "Python 3",
   "language": "python",
   "name": "python3"
  },
  "language_info": {
   "codemirror_mode": {
    "name": "ipython",
    "version": 2
   },
   "file_extension": ".py",
   "mimetype": "text/x-python",
   "name": "python",
   "nbconvert_exporter": "python",
   "pygments_lexer": "ipython2",
   "version": "2.7.15"
  }
 },
 "nbformat": 4,
 "nbformat_minor": 4
}
